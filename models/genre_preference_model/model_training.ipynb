{
 "cells": [
  {
   "cell_type": "code",
   "execution_count": 11,
   "metadata": {},
   "outputs": [],
   "source": [
    "import math\n",
    "import json\n",
    "import os\n",
    "import pandas as pd\n",
    "import numpy as np\n",
    "\n",
    "%matplotlib inline\n",
    "import matplotlib.pyplot as plt\n",
    "import seaborn as sns\n",
    "\n",
    "sns.set()\n",
    "sns.set_style('darkgrid')"
   ]
  },
  {
   "cell_type": "code",
   "execution_count": 116,
   "metadata": {},
   "outputs": [],
   "source": [
    "def ensure_dir(file_path):\n",
    "    directory = os.path.dirname(file_path)\n",
    "    if not os.path.exists(directory):\n",
    "        os.makedirs(directory)\n",
    "\n",
    "def saveJson(obj, path):\n",
    "    ensure_dir(path)\n",
    "    with open(path, 'w+') as f:\n",
    "        json.dump(obj, f)"
   ]
  },
  {
   "cell_type": "code",
   "execution_count": 156,
   "metadata": {},
   "outputs": [],
   "source": [
    "path='../../movielens/'\n",
    "movies_dict=json.load(open(path+'movies-dictionary.json'))\n",
    "genres_dict=json.load(open(path+'genres-dictionary.json'))\n",
    "movies_query_dict=json.load(open(path+'movies-query-dictionary.json'))\n",
    "\n",
    "\n",
    "movies_ratings=json.load(open(path+'movie-ratings.json','r'))\n",
    "\n",
    "user_ratings=json.load(open(path+'user-ratings.json'))\n",
    "\n",
    "users = json.load(open(path+'users.json'))\n"
   ]
  },
  {
   "cell_type": "code",
   "execution_count": 88,
   "metadata": {},
   "outputs": [],
   "source": [
    "def get_rating(ratings, user, movie):\n",
    "    return ratings[user][movie]['rating']"
   ]
  },
  {
   "cell_type": "code",
   "execution_count": 13,
   "metadata": {},
   "outputs": [],
   "source": [
    "def inverse_genre_frequency(movies, genres, genre):\n",
    "    # number of movies\n",
    "    N = movies['meta']['number_of_movies']\n",
    "    \n",
    "    # number of genre movies\n",
    "    n = genres[genre]['meta']['number_of_movies']\n",
    "    \n",
    "    return math.log(N/n)"
   ]
  },
  {
   "cell_type": "code",
   "execution_count": 139,
   "metadata": {},
   "outputs": [],
   "source": [
    "def user_genre_frequency(ratings, users, user, genre):\n",
    "    \n",
    "    d=users[user]['meta']['number_of_ratings']\n",
    "    \n",
    "    if d==0: return 0\n",
    "    \n",
    "    user_movies = users[user]['meta']['movies']['all']\n",
    "    genre_movies = users[user]['meta']['movies'][genre]\n",
    "    \n",
    "    if len(genre_movies)==0: return 0\n",
    "    \n",
    "    user_genre_movies_ratings = np.fromiter([get_rating(ratings, user, movie) for movie in genre_movies], float)\n",
    "    \n",
    "    return sum(user_genre_movies_ratings)/d\n"
   ]
  },
  {
   "cell_type": "code",
   "execution_count": 140,
   "metadata": {},
   "outputs": [],
   "source": [
    "def user_genre_preference(ratings, users, movies, genres, user, genre):\n",
    "    \n",
    "    gf = user_genre_frequency(ratings, users, user, genre)\n",
    "    \n",
    "    igf = inverse_genre_frequency(movies, genres, genre)\n",
    "    \n",
    "    return gf*igf"
   ]
  },
  {
   "cell_type": "markdown",
   "metadata": {},
   "source": [
    "### dictionary of genre prefrences"
   ]
  },
  {
   "cell_type": "code",
   "execution_count": 158,
   "metadata": {},
   "outputs": [],
   "source": [
    "ug_prefs={}\n",
    "ug_prefs.setdefault('data',{})\n",
    "ug_prefs.setdefault('meta',{})\n",
    "\n",
    "for user in users:\n",
    "    ug_weight=0\n",
    "    ug_prefs['data'].setdefault(user, {})\n",
    "    ug_prefs['data'][user].setdefault('data',{})\n",
    "    ug_prefs['data'][user].setdefault('meta',{})\n",
    "    wmax=0\n",
    "    user_genres=0\n",
    "    \n",
    "    for genre in genres_dict.keys():\n",
    "        ug_prefs['data'][user]['meta'].setdefault('preference_weight', 0)\n",
    "        \n",
    "        ug_prefs['meta'].setdefault(genre, {})\n",
    "        ug_prefs['meta'][genre].setdefault('appearances', 0)\n",
    "        ug_prefs['meta'][genre].setdefault('preference_weight', 0)\n",
    "        \n",
    "        pref = user_genre_preference(user_ratings, users, movies_dict, genres_dict, user, genre)\n",
    "\n",
    "        if pref>0: \n",
    "            ug_prefs['meta'][genre]['appearances']+=1\n",
    "            user_genres+=1\n",
    "        \n",
    "        if wmax<pref:\n",
    "            ug_prefs['data'][user]['meta']['fav_genre']=genre\n",
    "            wmax=pref\n",
    "        \n",
    "        ug_prefs['data'][user]['data'][genre]=pref\n",
    "        ug_prefs['data'][user]['meta']['preference_weight']+=pref\n",
    "\n",
    "        ug_prefs['meta'][genre]['preference_weight']+=pref\n",
    "    \n",
    "    for genre,weight in ug_prefs['data'][user]['data'].items():\n",
    "        ug_prefs['data'][user]['data'][genre]=weight/ug_prefs['data'][user]['meta']['preference_weight']\n",
    "    \n",
    "    ug_prefs['data'][user]['meta']['genres_rated']=user_genres\n",
    "    "
   ]
  },
  {
   "cell_type": "code",
   "execution_count": 159,
   "metadata": {},
   "outputs": [],
   "source": [
    "saveJson(ug_prefs, './user_genre_preferences.json')"
   ]
  },
  {
   "cell_type": "code",
   "execution_count": 148,
   "metadata": {},
   "outputs": [],
   "source": [
    "def get_genre_preference(ug_prefs, user, genre):\n",
    "    return ug_prefs['data'][user]['data'][genre]"
   ]
  },
  {
   "cell_type": "code",
   "execution_count": 176,
   "metadata": {},
   "outputs": [],
   "source": [
    "def movie_genre_weight(movie_ratings, movies,ug_prefs, genres, movie, genre):\n",
    "    \n",
    "    users = movies_ratings[movie].keys()\n",
    "    \n",
    "    nm=[get_rating(movie_ratings, movie, user)*get_genre_preference(ug_prefs,user,genre) for user in users]\n",
    "    \n",
    "    gc=[1 for g in genres.keys() for user in users if get_genre_preference(ug_prefs, user, g)]\n",
    "    \n",
    "    return sum(nm)/sum(gc)*inverse_genre_frequency(movies=movies, genres=genres, genre=genre)"
   ]
  },
  {
   "cell_type": "markdown",
   "metadata": {},
   "source": [
    "### dictionary of genre weights in movies"
   ]
  },
  {
   "cell_type": "code",
   "execution_count": null,
   "metadata": {},
   "outputs": [],
   "source": []
  }
 ],
 "metadata": {
  "kernelspec": {
   "display_name": "Python 3",
   "language": "python",
   "name": "python3"
  },
  "language_info": {
   "codemirror_mode": {
    "name": "ipython",
    "version": 3
   },
   "file_extension": ".py",
   "mimetype": "text/x-python",
   "name": "python",
   "nbconvert_exporter": "python",
   "pygments_lexer": "ipython3",
   "version": "3.5.2"
  }
 },
 "nbformat": 4,
 "nbformat_minor": 2
}

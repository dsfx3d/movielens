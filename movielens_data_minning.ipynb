{
 "cells": [
  {
   "cell_type": "code",
   "execution_count": 1,
   "metadata": {},
   "outputs": [],
   "source": [
    "import json\n",
    "import numpy as np\n",
    "import pandas as pd"
   ]
  },
  {
   "cell_type": "code",
   "execution_count": 2,
   "metadata": {},
   "outputs": [],
   "source": [
    "PATH='datasets/'\n",
    "csvfiles = ['links.csv','movies.csv','ratings.csv']"
   ]
  },
  {
   "cell_type": "code",
   "execution_count": 3,
   "metadata": {},
   "outputs": [],
   "source": [
    "# load movielens datasets\n",
    "\n",
    "def loadMovieLens(path=PATH):\n",
    "    linksdf = pd.read_csv(path+csvfiles[0])\n",
    "    moviesdf = pd.read_csv(path+csvfiles[1])\n",
    "    ratingsdf = pd.read_csv(path+csvfiles[2])\n",
    "    \n",
    "    return linksdf, moviesdf, ratingsdf"
   ]
  },
  {
   "cell_type": "code",
   "execution_count": 4,
   "metadata": {},
   "outputs": [],
   "source": [
    "linksdf, moviesdf, ratingsdf = loadMovieLens()\n"
   ]
  },
  {
   "cell_type": "markdown",
   "metadata": {},
   "source": [
    "## Raw data transformation"
   ]
  },
  {
   "cell_type": "markdown",
   "metadata": {},
   "source": [
    "### 1. Merging IMDb linksdf with moviesdf"
   ]
  },
  {
   "cell_type": "code",
   "execution_count": 5,
   "metadata": {},
   "outputs": [],
   "source": [
    "moviesdf['imdbid']=linksdf.imdbId"
   ]
  },
  {
   "cell_type": "markdown",
   "metadata": {},
   "source": [
    "### 2. movies.json"
   ]
  },
  {
   "cell_type": "code",
   "execution_count": 6,
   "metadata": {},
   "outputs": [
    {
     "data": {
      "text/html": [
       "<div>\n",
       "<style scoped>\n",
       "    .dataframe tbody tr th:only-of-type {\n",
       "        vertical-align: middle;\n",
       "    }\n",
       "\n",
       "    .dataframe tbody tr th {\n",
       "        vertical-align: top;\n",
       "    }\n",
       "\n",
       "    .dataframe thead th {\n",
       "        text-align: right;\n",
       "    }\n",
       "</style>\n",
       "<table border=\"1\" class=\"dataframe\">\n",
       "  <thead>\n",
       "    <tr style=\"text-align: right;\">\n",
       "      <th></th>\n",
       "      <th>movieId</th>\n",
       "      <th>title</th>\n",
       "      <th>genres</th>\n",
       "      <th>imdbid</th>\n",
       "    </tr>\n",
       "  </thead>\n",
       "  <tbody>\n",
       "    <tr>\n",
       "      <th>0</th>\n",
       "      <td>1</td>\n",
       "      <td>Toy Story (1995)</td>\n",
       "      <td>Adventure|Animation|Children|Comedy|Fantasy</td>\n",
       "      <td>114709</td>\n",
       "    </tr>\n",
       "    <tr>\n",
       "      <th>1</th>\n",
       "      <td>2</td>\n",
       "      <td>Jumanji (1995)</td>\n",
       "      <td>Adventure|Children|Fantasy</td>\n",
       "      <td>113497</td>\n",
       "    </tr>\n",
       "    <tr>\n",
       "      <th>2</th>\n",
       "      <td>3</td>\n",
       "      <td>Grumpier Old Men (1995)</td>\n",
       "      <td>Comedy|Romance</td>\n",
       "      <td>113228</td>\n",
       "    </tr>\n",
       "    <tr>\n",
       "      <th>3</th>\n",
       "      <td>4</td>\n",
       "      <td>Waiting to Exhale (1995)</td>\n",
       "      <td>Comedy|Drama|Romance</td>\n",
       "      <td>114885</td>\n",
       "    </tr>\n",
       "    <tr>\n",
       "      <th>4</th>\n",
       "      <td>5</td>\n",
       "      <td>Father of the Bride Part II (1995)</td>\n",
       "      <td>Comedy</td>\n",
       "      <td>113041</td>\n",
       "    </tr>\n",
       "  </tbody>\n",
       "</table>\n",
       "</div>"
      ],
      "text/plain": [
       "   movieId                               title  \\\n",
       "0        1                    Toy Story (1995)   \n",
       "1        2                      Jumanji (1995)   \n",
       "2        3             Grumpier Old Men (1995)   \n",
       "3        4            Waiting to Exhale (1995)   \n",
       "4        5  Father of the Bride Part II (1995)   \n",
       "\n",
       "                                        genres  imdbid  \n",
       "0  Adventure|Animation|Children|Comedy|Fantasy  114709  \n",
       "1                   Adventure|Children|Fantasy  113497  \n",
       "2                               Comedy|Romance  113228  \n",
       "3                         Comedy|Drama|Romance  114885  \n",
       "4                                       Comedy  113041  "
      ]
     },
     "execution_count": 6,
     "metadata": {},
     "output_type": "execute_result"
    }
   ],
   "source": [
    "moviesdf.head()"
   ]
  },
  {
   "cell_type": "code",
   "execution_count": 7,
   "metadata": {},
   "outputs": [],
   "source": [
    "# extract years \n",
    "moviesdf['year'] = moviesdf.title.str.extract(r'\\((\\d+)\\)', expand=False)"
   ]
  },
  {
   "cell_type": "code",
   "execution_count": 8,
   "metadata": {},
   "outputs": [],
   "source": [
    "# clean title\n",
    "moviesdf.title = moviesdf.title.str.replace(r'(\\(\\d+\\))', '')\n",
    "moviesdf.title = moviesdf.title.str.strip()"
   ]
  },
  {
   "cell_type": "code",
   "execution_count": 9,
   "metadata": {},
   "outputs": [],
   "source": [
    "# cleaning genres\n",
    "moviesdf.genres = moviesdf.genres.str.split('|')"
   ]
  },
  {
   "cell_type": "code",
   "execution_count": 10,
   "metadata": {},
   "outputs": [
    {
     "data": {
      "text/html": [
       "<div>\n",
       "<style scoped>\n",
       "    .dataframe tbody tr th:only-of-type {\n",
       "        vertical-align: middle;\n",
       "    }\n",
       "\n",
       "    .dataframe tbody tr th {\n",
       "        vertical-align: top;\n",
       "    }\n",
       "\n",
       "    .dataframe thead th {\n",
       "        text-align: right;\n",
       "    }\n",
       "</style>\n",
       "<table border=\"1\" class=\"dataframe\">\n",
       "  <thead>\n",
       "    <tr style=\"text-align: right;\">\n",
       "      <th></th>\n",
       "      <th>movieId</th>\n",
       "      <th>title</th>\n",
       "      <th>genres</th>\n",
       "      <th>imdbid</th>\n",
       "      <th>year</th>\n",
       "    </tr>\n",
       "  </thead>\n",
       "  <tbody>\n",
       "    <tr>\n",
       "      <th>0</th>\n",
       "      <td>1</td>\n",
       "      <td>Toy Story</td>\n",
       "      <td>[Adventure, Animation, Children, Comedy, Fantasy]</td>\n",
       "      <td>114709</td>\n",
       "      <td>1995</td>\n",
       "    </tr>\n",
       "    <tr>\n",
       "      <th>1</th>\n",
       "      <td>2</td>\n",
       "      <td>Jumanji</td>\n",
       "      <td>[Adventure, Children, Fantasy]</td>\n",
       "      <td>113497</td>\n",
       "      <td>1995</td>\n",
       "    </tr>\n",
       "    <tr>\n",
       "      <th>2</th>\n",
       "      <td>3</td>\n",
       "      <td>Grumpier Old Men</td>\n",
       "      <td>[Comedy, Romance]</td>\n",
       "      <td>113228</td>\n",
       "      <td>1995</td>\n",
       "    </tr>\n",
       "    <tr>\n",
       "      <th>3</th>\n",
       "      <td>4</td>\n",
       "      <td>Waiting to Exhale</td>\n",
       "      <td>[Comedy, Drama, Romance]</td>\n",
       "      <td>114885</td>\n",
       "      <td>1995</td>\n",
       "    </tr>\n",
       "    <tr>\n",
       "      <th>4</th>\n",
       "      <td>5</td>\n",
       "      <td>Father of the Bride Part II</td>\n",
       "      <td>[Comedy]</td>\n",
       "      <td>113041</td>\n",
       "      <td>1995</td>\n",
       "    </tr>\n",
       "  </tbody>\n",
       "</table>\n",
       "</div>"
      ],
      "text/plain": [
       "   movieId                        title  \\\n",
       "0        1                    Toy Story   \n",
       "1        2                      Jumanji   \n",
       "2        3             Grumpier Old Men   \n",
       "3        4            Waiting to Exhale   \n",
       "4        5  Father of the Bride Part II   \n",
       "\n",
       "                                              genres  imdbid  year  \n",
       "0  [Adventure, Animation, Children, Comedy, Fantasy]  114709  1995  \n",
       "1                     [Adventure, Children, Fantasy]  113497  1995  \n",
       "2                                  [Comedy, Romance]  113228  1995  \n",
       "3                           [Comedy, Drama, Romance]  114885  1995  \n",
       "4                                           [Comedy]  113041  1995  "
      ]
     },
     "execution_count": 10,
     "metadata": {},
     "output_type": "execute_result"
    }
   ],
   "source": [
    "moviesdf.head()"
   ]
  },
  {
   "cell_type": "code",
   "execution_count": 11,
   "metadata": {},
   "outputs": [],
   "source": [
    "moviesdf.year.fillna(-1, inplace=True)"
   ]
  },
  {
   "cell_type": "code",
   "execution_count": 12,
   "metadata": {
    "scrolled": true
   },
   "outputs": [],
   "source": [
    "i_movieId, i_title, i_genres, i_imdbid, i_year = 0, 1, 2, 3, 4\n",
    "movies = {}\n",
    "for row in moviesdf.iterrows():\n",
    "    row=row[1]\n",
    "    moviedId = int(row[i_movieId])\n",
    "    \n",
    "    movies.setdefault(moviedId, {})\n",
    "    movies[moviedId] = dict(title=row[i_title], genres=row[i_genres], imdbid=row[i_imdbid], year=row[i_year])\n",
    "    \n",
    "    "
   ]
  },
  {
   "cell_type": "code",
   "execution_count": 13,
   "metadata": {},
   "outputs": [],
   "source": [
    "import json\n",
    "json.dump(movies, open('movielens/movies.json','w+'))"
   ]
  },
  {
   "cell_type": "markdown",
   "metadata": {},
   "source": [
    "__format :: movies.json__:\n",
    "\n",
    "{\n",
    "\n",
    "    _movieId_: {\n",
    "\n",
    "        'title': _movie title_,\n",
    "\n",
    "        'genres': [ _genre1_, _genre2_, ..],\n",
    "\n",
    "        'year': _year of release_,\n",
    "\n",
    "        'imdb': _IMDb id of movie_\n",
    "     },\n",
    "     .\n",
    "     .\n",
    "     .\n",
    "}\n",
    "\n",
    "movies.json is a dictionary of movie objects formated as above"
   ]
  },
  {
   "cell_type": "markdown",
   "metadata": {},
   "source": [
    "### 3. genres.json"
   ]
  },
  {
   "cell_type": "code",
   "execution_count": 14,
   "metadata": {},
   "outputs": [],
   "source": [
    "genres={}\n",
    "for movie in movies.keys():\n",
    "    \n",
    "    # genres of this movie\n",
    "    genrelist=movies[movie]['genres']\n",
    "    \n",
    "    # each genre in genrelist\n",
    "    for g in genrelist:\n",
    "        genres.setdefault(g,[])\n",
    "        # classifing movies against genres\n",
    "        genres[g].append(int(movie))\n",
    "\n"
   ]
  },
  {
   "cell_type": "code",
   "execution_count": 15,
   "metadata": {},
   "outputs": [],
   "source": [
    "json.dump(genres,open('movielens/genres.json','w'))"
   ]
  },
  {
   "cell_type": "markdown",
   "metadata": {},
   "source": [
    "__format :: genres.json__\n",
    "\n",
    "{\n",
    "\n",
    "    genre1: [ _movieId1_, _movieId2, ..],\n",
    "    genre2: [ _movieId1_, _movieId2, ..],\n",
    "    .\n",
    "    .\n",
    "    .\n",
    "\n",
    "}\n",
    "\n",
    "key: genre(string)\n",
    "\n",
    "item: list of movieIds of key genre"
   ]
  },
  {
   "cell_type": "markdown",
   "metadata": {},
   "source": [
    "### 4. ratings.json"
   ]
  },
  {
   "cell_type": "code",
   "execution_count": 16,
   "metadata": {},
   "outputs": [
    {
     "data": {
      "text/html": [
       "<div>\n",
       "<style scoped>\n",
       "    .dataframe tbody tr th:only-of-type {\n",
       "        vertical-align: middle;\n",
       "    }\n",
       "\n",
       "    .dataframe tbody tr th {\n",
       "        vertical-align: top;\n",
       "    }\n",
       "\n",
       "    .dataframe thead th {\n",
       "        text-align: right;\n",
       "    }\n",
       "</style>\n",
       "<table border=\"1\" class=\"dataframe\">\n",
       "  <thead>\n",
       "    <tr style=\"text-align: right;\">\n",
       "      <th></th>\n",
       "      <th>userId</th>\n",
       "      <th>movieId</th>\n",
       "      <th>rating</th>\n",
       "      <th>timestamp</th>\n",
       "    </tr>\n",
       "  </thead>\n",
       "  <tbody>\n",
       "    <tr>\n",
       "      <th>0</th>\n",
       "      <td>1</td>\n",
       "      <td>31</td>\n",
       "      <td>2.5</td>\n",
       "      <td>1260759144</td>\n",
       "    </tr>\n",
       "    <tr>\n",
       "      <th>1</th>\n",
       "      <td>1</td>\n",
       "      <td>1029</td>\n",
       "      <td>3.0</td>\n",
       "      <td>1260759179</td>\n",
       "    </tr>\n",
       "    <tr>\n",
       "      <th>2</th>\n",
       "      <td>1</td>\n",
       "      <td>1061</td>\n",
       "      <td>3.0</td>\n",
       "      <td>1260759182</td>\n",
       "    </tr>\n",
       "    <tr>\n",
       "      <th>3</th>\n",
       "      <td>1</td>\n",
       "      <td>1129</td>\n",
       "      <td>2.0</td>\n",
       "      <td>1260759185</td>\n",
       "    </tr>\n",
       "    <tr>\n",
       "      <th>4</th>\n",
       "      <td>1</td>\n",
       "      <td>1172</td>\n",
       "      <td>4.0</td>\n",
       "      <td>1260759205</td>\n",
       "    </tr>\n",
       "  </tbody>\n",
       "</table>\n",
       "</div>"
      ],
      "text/plain": [
       "   userId  movieId  rating   timestamp\n",
       "0       1       31     2.5  1260759144\n",
       "1       1     1029     3.0  1260759179\n",
       "2       1     1061     3.0  1260759182\n",
       "3       1     1129     2.0  1260759185\n",
       "4       1     1172     4.0  1260759205"
      ]
     },
     "execution_count": 16,
     "metadata": {},
     "output_type": "execute_result"
    }
   ],
   "source": [
    "ratingsdf.head()"
   ]
  },
  {
   "cell_type": "code",
   "execution_count": 17,
   "metadata": {},
   "outputs": [],
   "source": [
    "ratings = {}\n",
    "user_history = {}\n",
    "for row in ratingsdf.iterrows():\n",
    "    row=row[1]\n",
    "    userId = int(row[0])\n",
    "    movieId = int(row[1])\n",
    "    rating = row[2]\n",
    "    timestamp = int(row[3])\n",
    "    \n",
    "    ratings.setdefault(userId,{})\n",
    "    ratings[userId].setdefault(movieId,{})\n",
    "    \n",
    "    ratings[userId][movieId] = dict(rating=rating, timestamp=timestamp)\n",
    "    \n",
    "    "
   ]
  },
  {
   "cell_type": "code",
   "execution_count": 18,
   "metadata": {},
   "outputs": [],
   "source": [
    "json.dump(ratings, open('movielens/ratings.json', 'w+'))"
   ]
  },
  {
   "cell_type": "markdown",
   "metadata": {},
   "source": [
    "__format :: ratings.json__\n",
    "\n",
    "{\n",
    "\n",
    "    userId: {\n",
    "\n",
    "        movieId1: {\n",
    "            'rating': 0.0-5.0,\n",
    "            'timestamp': when rated\n",
    "        },\n",
    "        .\n",
    "        .\n",
    "        .\n",
    "    },\n",
    "    .\n",
    "    .\n",
    "    .\n",
    "}\n",
    "\n",
    "__desc__\n",
    "\n",
    "1. ratings.json is a dictionary of all movie ratings\n",
    "2. each user who ever rated a movie has an object in this dictionary\n",
    "3. each user object is a dictionary of rating objects\n",
    "4. each rating object has movieId as key and two properties:\n",
    "    1. user rating of that movie\n",
    "    2. timestamp of rating"
   ]
  },
  {
   "cell_type": "markdown",
   "metadata": {},
   "source": [
    "### 5. Transposed Ratings\n",
    "\n",
    "Iterchange movieId keys with userId keys"
   ]
  },
  {
   "cell_type": "code",
   "execution_count": 19,
   "metadata": {},
   "outputs": [],
   "source": [
    "def transpose(prefs):\n",
    "    tp={}\n",
    "    for user in prefs:\n",
    "        for item in prefs[user]:\n",
    "            \n",
    "            tp.setdefault(item,{})\n",
    "            tp[item].setdefault(user,{})\n",
    "            \n",
    "            tp[item][user]=prefs[user][item]\n",
    "    return tp"
   ]
  },
  {
   "cell_type": "code",
   "execution_count": 20,
   "metadata": {},
   "outputs": [],
   "source": [
    "trans_ratings = transpose(ratings)\n",
    "json.dump(trans_ratings, open('movielens/ratings-transpose.json', 'w'))"
   ]
  },
  {
   "cell_type": "markdown",
   "metadata": {},
   "source": [
    "__format :: ratings-transpose.json__\n",
    "\n",
    "{\n",
    "\n",
    "    movieId: {\n",
    "\n",
    "        userId: {\n",
    "            'rating': x in (0.0, 5.0)\n",
    "            'timestamp': when rated\n",
    "        },\n",
    "        .\n",
    "        .\n",
    "        .\n",
    "    },\n",
    "    .\n",
    "    .\n",
    "    .\n",
    "}"
   ]
  },
  {
   "cell_type": "markdown",
   "metadata": {},
   "source": [
    "## User - Genre Preference Model"
   ]
  },
  {
   "cell_type": "markdown",
   "metadata": {},
   "source": [
    "will calculate preference of each genre for each user"
   ]
  },
  {
   "cell_type": "code",
   "execution_count": 21,
   "metadata": {},
   "outputs": [],
   "source": [
    "import math"
   ]
  },
  {
   "cell_type": "markdown",
   "metadata": {},
   "source": [
    "### Genre Frequency in User Ratings"
   ]
  },
  {
   "cell_type": "code",
   "execution_count": 22,
   "metadata": {},
   "outputs": [],
   "source": [
    "def user_genre_occurence_frequency(prefs, genres, userId, genre):\n",
    "    '''\n",
    "    TODO:\n",
    "        find occurence rate of a genre in user ratings weighted by rating of movies\n",
    "    \n",
    "    HOW:\n",
    "        R(u, m) :\n",
    "            returns ratings by user 'u' for movie 'm'. will use to get ratings of movies\n",
    "            of genre 'g' rated by user 'u'\n",
    "\n",
    "        T(u, M)\n",
    "            returns total number of movies rated by user 'u' which belong to universal\n",
    "            movie set 'M'\n",
    "\n",
    "        gf(u, g) = sum( R(u, m); all m in Mu and m of g ) / T(u, M) \n",
    "            ; Mu is set of movies rated by 'u'\n",
    "        \n",
    "            returns occurrence frequency of a particular genre 'g' in user 'u's ratings weighted by\n",
    "            movie ratings.\n",
    "    \n",
    "    WHY:\n",
    "        1. it shows how much a genre 'g' appeares in user ratings and how user 'u' rates those movies\n",
    "        \n",
    "        2. high value signifies high inclination towards for movies of that genre\n",
    "    \n",
    "    RETURN: \n",
    "        gf(u, g)\n",
    "    \n",
    "    \n",
    "    NOTES: \n",
    "        1. analogous to Term Frequency from TF-IDF model\n",
    "    '''\n",
    "    \n",
    "    userPrefs = prefs[userId]\n",
    "    \n",
    "    # total number of movies rated by user; T(u, M)\n",
    "    numRatings=len(userPrefs.keys())\n",
    "    \n",
    "    # if no movies rated by user\n",
    "    if numRatings==0: return 0\n",
    "    \n",
    "    # sum of all movie ratings of this genre; sum( R(u, m) m belongs to Mu and m of g )\n",
    "    sumGenreRatings = sum([ userPrefs[movie]['rating'] for movie in genres[genre] if movie in userPrefs.keys() ])\n",
    "    \n",
    "    # gf(u, g)\n",
    "    return sumGenreRatings/numRatings"
   ]
  },
  {
   "cell_type": "markdown",
   "metadata": {},
   "source": [
    "### Logged inverse genre occurence frequency"
   ]
  },
  {
   "cell_type": "code",
   "execution_count": 23,
   "metadata": {},
   "outputs": [],
   "source": [
    "def inverse_genre_occurence_frequency(movies, genres, genre):\n",
    "    '''\n",
    "    TODO: \n",
    "        find log of inverse occurence frequncy of a genre in all of movies.\n",
    "    \n",
    "    HOW:\n",
    "        T(g, M)\n",
    "            returns total number of movies of genre 'g' in universal movie set 'M'\n",
    "        \n",
    "        T(M)\n",
    "            returns total number of movies in 'M'\n",
    "        \n",
    "        IGF(g, M) = log( T(M)/T(g, M) )\n",
    "            returns log of inverse genre frequency of genre 'g' in 'M'\n",
    "    \n",
    "    WHY:\n",
    "        1. It shows the importance of a genre 'g'; importance increases with value\n",
    "        2. Genres which appear in many movies are not very distinctive hence, not very important\n",
    "           for making recommendations.\n",
    "    \n",
    "    RETURN:\n",
    "        IGF(g, M)\n",
    "    \n",
    "    NOTES: analogous to Inverse Document Frequency from TF-IDF model\n",
    "    '''\n",
    "    # total number of movies in all the dataset; T(M)\n",
    "    N = len(movies.keys())\n",
    "    \n",
    "    # total number of movies of this genre; T(g, M)\n",
    "    n = len(genres[genre])\n",
    "    \n",
    "    # log of inverse genre frequency; IGF(g, M)\n",
    "    return math.log(N/n)\n",
    "    "
   ]
  },
  {
   "cell_type": "markdown",
   "metadata": {},
   "source": [
    "### Genre Preference Score"
   ]
  },
  {
   "cell_type": "code",
   "execution_count": 24,
   "metadata": {},
   "outputs": [],
   "source": [
    "def user_genre_preference_score(prefs, movies, genres, userId, genre):\n",
    "    '''\n",
    "    TODO: \n",
    "        calculate a user's preference score for the given genre\n",
    "    \n",
    "    HOW:\n",
    "        gf(u, g)\n",
    "            preference score of genre 'g' for user 'u'\n",
    "            \n",
    "        IGF(g, M)\n",
    "            inverse genre frequency of genre 'g' in universal movie set 'M'\n",
    "        \n",
    "        p(u, g) = gf(u, g) * IGF(g, M)\n",
    "            returns user 'u' preference score for genre 'g'\n",
    "    \n",
    "    WHY:\n",
    "        1. this stat shows user 'u's subjective preference for the given genre\n",
    "        \n",
    "        2. if user 'u' has seen many movies of genre 'g'; T(u, M) is high and p(u, g) is high, it shows that \n",
    "           user 'u' has high degree of preference for genre 'g' and would like to watch more \n",
    "           movies of this genre. \n",
    "           Recommed more movies of genre 'g'\n",
    "        \n",
    "        3. if user 'u' has seen many movies of genre 'g'; T(u, M) is high but p(u, g) is low, it shows that\n",
    "           user 'u' is intrested in genre 'g' but haven't found satisfying movies of this genre. \n",
    "           Recommend top rated movies of this genre filtered by similar users\n",
    "           \n",
    "        4. if user 'u' has not seen many movies of genre 'g'; T(u, M) is low but p(u, g) is high, it shows that\n",
    "           user 'u' might not be inclined towards genre 'g' but have found the movies they saw intresting.\n",
    "           Recommend top rated movies of this genre filtered by similar users\n",
    "        \n",
    "        5. if user 'u' has not seen many movies of genre 'g'; T(u, M) is low and p(u, g) is low, it shows that\n",
    "           user 'u' is not intrested in this genre and didn't liked the movies they saw.\n",
    "    \n",
    "    RETURN: \n",
    "            p(u, g)\n",
    "        \n",
    "    \n",
    "    NOTES: analogous to IT-IDF model\n",
    "    '''\n",
    "    \n",
    "    # tf of genre; gf(u, g)\n",
    "    gf = user_genre_occurence_frequency(prefs, genres, userId, genre)\n",
    "    \n",
    "    # idf of genre; IGF(g, M)\n",
    "    igf = inverse_genre_occurence_frequency(movies, genres, genre)\n",
    "    \n",
    "    return gf*igf\n",
    "    "
   ]
  },
  {
   "cell_type": "markdown",
   "metadata": {},
   "source": [
    "### Creating Genre Preference Dictionary"
   ]
  },
  {
   "cell_type": "code",
   "execution_count": 25,
   "metadata": {},
   "outputs": [],
   "source": [
    "def create_user_genre_preference_dictionary(prefs, movies, genres):\n",
    "    '''\n",
    "    TODO: create a dictionary of normalized genre preferences of all users for all genres\n",
    "    '''\n",
    "    gps={}\n",
    "\n",
    "    # all userIds\n",
    "    for userId in prefs.keys():\n",
    "        s=0 # sum of genre pref scores for userId; to normalize the score vector\n",
    "\n",
    "        # all genres\n",
    "        for genre in genres.keys():\n",
    "            gps.setdefault(userId,{})\n",
    "\n",
    "            # genre pref score for userId for this genre\n",
    "            score = user_genre_preference_score(prefs, movies, genres, userId, genre)\n",
    "\n",
    "            s+=score\n",
    "            gps[userId][genre] = score\n",
    "\n",
    "        # normalization\n",
    "        for genre in gps[userId].keys():\n",
    "            gps[userId][genre]= gps[userId][genre]/s   \n",
    "    \n",
    "    return gps\n"
   ]
  },
  {
   "cell_type": "code",
   "execution_count": 26,
   "metadata": {},
   "outputs": [],
   "source": [
    "gps = create_user_genre_preference_dictionary(ratings, movies, genres)\n",
    "json.dump(gps, open('movielens/user-genre-preferences.json','w'))"
   ]
  },
  {
   "cell_type": "markdown",
   "metadata": {},
   "source": [
    "__format :: user-genre-preferences.json__\n",
    "\n",
    "{\n",
    "\n",
    "    userId: {    \n",
    "        genre: preference score,\n",
    "        genre: preference score,\n",
    "        .\n",
    "        .\n",
    "        .\n",
    "     }\n",
    "     .\n",
    "     .\n",
    "     .\n",
    "}\n",
    "\n",
    "__desc__\n",
    "1. dictionary of genre preference scores for all genres of all users"
   ]
  },
  {
   "cell_type": "markdown",
   "metadata": {},
   "source": [
    "## Item-Genre Importance Model"
   ]
  },
  {
   "cell_type": "markdown",
   "metadata": {},
   "source": [
    "will calculate weight of a genre in a movie"
   ]
  },
  {
   "cell_type": "code",
   "execution_count": 27,
   "metadata": {},
   "outputs": [],
   "source": [
    "with open('movielens/ratings-transpose.json','r') as tr:\n",
    "    trans_prefs=json.load(tr)"
   ]
  },
  {
   "cell_type": "code",
   "execution_count": 28,
   "metadata": {},
   "outputs": [],
   "source": [
    "with open('movielens/ratings.json','r') as rj:\n",
    "    prefs = json.load(rj)"
   ]
  },
  {
   "cell_type": "code",
   "execution_count": 29,
   "metadata": {},
   "outputs": [],
   "source": [
    "with open('movielens/user-genre-preferences.json','r') as rj:\n",
    "    genre_prefs = json.load(rj)\n",
    "\n",
    "with open('movielens/movies.json','r') as rj:\n",
    "    movies = json.load(rj)"
   ]
  },
  {
   "cell_type": "code",
   "execution_count": 30,
   "metadata": {},
   "outputs": [],
   "source": [
    "def movie_genre_occurance_weight(prefs, trans_prefs, movies, genre_prefs, movie, genre):\n",
    "    '''\n",
    "    how much of genre factor present in movie\n",
    "    '''\n",
    "    # all the user who rated this movie\n",
    "    users = trans_prefs[movie].keys()\n",
    "    \n",
    "    s=0\n",
    "    rm=set()\n",
    "    for user in users:\n",
    "        \n",
    "        # sum of product of movie ratings by all users and user genre prefrence scores for the genre\n",
    "        s+=trans_prefs[movie][user]['rating']*genre_prefs[user][genre]\n",
    "        \n",
    "        # all the genres rated by these users\n",
    "        for mid in prefs[user].keys():\n",
    "            rm = rm.union(set(movies[mid]['genres']))\n",
    "    \n",
    "    return s/len(rm)\n",
    "        "
   ]
  }
 ],
 "metadata": {
  "kernelspec": {
   "display_name": "Python 3",
   "language": "python",
   "name": "python3"
  },
  "language_info": {
   "codemirror_mode": {
    "name": "ipython",
    "version": 3
   },
   "file_extension": ".py",
   "mimetype": "text/x-python",
   "name": "python",
   "nbconvert_exporter": "python",
   "pygments_lexer": "ipython3",
   "version": "3.5.2"
  }
 },
 "nbformat": 4,
 "nbformat_minor": 2
}

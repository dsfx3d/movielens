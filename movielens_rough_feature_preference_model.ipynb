{
 "cells": [
  {
   "cell_type": "code",
   "execution_count": 1,
   "metadata": {},
   "outputs": [],
   "source": [
    "import json\n",
    "import numpy as np\n",
    "import pandas as pd"
   ]
  },
  {
   "cell_type": "code",
   "execution_count": 2,
   "metadata": {},
   "outputs": [],
   "source": [
    "PATH='datasets/'\n",
    "csvfiles = ['links.csv','movies.csv','ratings.csv']"
   ]
  },
  {
   "cell_type": "code",
   "execution_count": 3,
   "metadata": {},
   "outputs": [],
   "source": [
    "# load movielens datasets\n",
    "\n",
    "def loadMovieLens(path=PATH):\n",
    "    linksdf = pd.read_csv(path+csvfiles[0])\n",
    "    moviesdf = pd.read_csv(path+csvfiles[1])\n",
    "    ratingsdf = pd.read_csv(path+csvfiles[2])\n",
    "    \n",
    "    return linksdf, moviesdf, ratingsdf"
   ]
  },
  {
   "cell_type": "code",
   "execution_count": 4,
   "metadata": {},
   "outputs": [],
   "source": [
    "linksdf, moviesdf, ratingsdf = loadMovieLens()\n"
   ]
  },
  {
   "cell_type": "markdown",
   "metadata": {},
   "source": [
    "## Raw data transformation"
   ]
  },
  {
   "cell_type": "markdown",
   "metadata": {},
   "source": [
    "### 1. Merging IMDb linksdf with moviesdf"
   ]
  },
  {
   "cell_type": "code",
   "execution_count": 5,
   "metadata": {},
   "outputs": [],
   "source": [
    "moviesdf['imdbid']=linksdf.imdbId"
   ]
  },
  {
   "cell_type": "markdown",
   "metadata": {},
   "source": [
    "### 2. movies.json"
   ]
  },
  {
   "cell_type": "code",
   "execution_count": 6,
   "metadata": {},
   "outputs": [
    {
     "data": {
      "text/html": [
       "<div>\n",
       "<style scoped>\n",
       "    .dataframe tbody tr th:only-of-type {\n",
       "        vertical-align: middle;\n",
       "    }\n",
       "\n",
       "    .dataframe tbody tr th {\n",
       "        vertical-align: top;\n",
       "    }\n",
       "\n",
       "    .dataframe thead th {\n",
       "        text-align: right;\n",
       "    }\n",
       "</style>\n",
       "<table border=\"1\" class=\"dataframe\">\n",
       "  <thead>\n",
       "    <tr style=\"text-align: right;\">\n",
       "      <th></th>\n",
       "      <th>movieId</th>\n",
       "      <th>title</th>\n",
       "      <th>genres</th>\n",
       "      <th>imdbid</th>\n",
       "    </tr>\n",
       "  </thead>\n",
       "  <tbody>\n",
       "    <tr>\n",
       "      <th>0</th>\n",
       "      <td>1</td>\n",
       "      <td>Toy Story (1995)</td>\n",
       "      <td>Adventure|Animation|Children|Comedy|Fantasy</td>\n",
       "      <td>114709</td>\n",
       "    </tr>\n",
       "    <tr>\n",
       "      <th>1</th>\n",
       "      <td>2</td>\n",
       "      <td>Jumanji (1995)</td>\n",
       "      <td>Adventure|Children|Fantasy</td>\n",
       "      <td>113497</td>\n",
       "    </tr>\n",
       "    <tr>\n",
       "      <th>2</th>\n",
       "      <td>3</td>\n",
       "      <td>Grumpier Old Men (1995)</td>\n",
       "      <td>Comedy|Romance</td>\n",
       "      <td>113228</td>\n",
       "    </tr>\n",
       "    <tr>\n",
       "      <th>3</th>\n",
       "      <td>4</td>\n",
       "      <td>Waiting to Exhale (1995)</td>\n",
       "      <td>Comedy|Drama|Romance</td>\n",
       "      <td>114885</td>\n",
       "    </tr>\n",
       "    <tr>\n",
       "      <th>4</th>\n",
       "      <td>5</td>\n",
       "      <td>Father of the Bride Part II (1995)</td>\n",
       "      <td>Comedy</td>\n",
       "      <td>113041</td>\n",
       "    </tr>\n",
       "  </tbody>\n",
       "</table>\n",
       "</div>"
      ],
      "text/plain": [
       "   movieId                               title  \\\n",
       "0        1                    Toy Story (1995)   \n",
       "1        2                      Jumanji (1995)   \n",
       "2        3             Grumpier Old Men (1995)   \n",
       "3        4            Waiting to Exhale (1995)   \n",
       "4        5  Father of the Bride Part II (1995)   \n",
       "\n",
       "                                        genres  imdbid  \n",
       "0  Adventure|Animation|Children|Comedy|Fantasy  114709  \n",
       "1                   Adventure|Children|Fantasy  113497  \n",
       "2                               Comedy|Romance  113228  \n",
       "3                         Comedy|Drama|Romance  114885  \n",
       "4                                       Comedy  113041  "
      ]
     },
     "execution_count": 6,
     "metadata": {},
     "output_type": "execute_result"
    }
   ],
   "source": [
    "moviesdf.head()"
   ]
  },
  {
   "cell_type": "code",
   "execution_count": 7,
   "metadata": {},
   "outputs": [],
   "source": [
    "# extract years \n",
    "moviesdf['year'] = moviesdf.title.str.extract(r'\\((\\d\\d\\d\\d)\\)', expand=False)"
   ]
  },
  {
   "cell_type": "code",
   "execution_count": 8,
   "metadata": {},
   "outputs": [],
   "source": [
    "# clean title\n",
    "moviesdf.title = moviesdf.title.str.replace(r'(\\(\\d+\\))', '')\n",
    "moviesdf.title = moviesdf.title.str.strip()"
   ]
  },
  {
   "cell_type": "code",
   "execution_count": 9,
   "metadata": {},
   "outputs": [],
   "source": [
    "# cleaning genres\n",
    "moviesdf.genres = moviesdf.genres.str.split('|')"
   ]
  },
  {
   "cell_type": "code",
   "execution_count": 10,
   "metadata": {},
   "outputs": [
    {
     "data": {
      "text/html": [
       "<div>\n",
       "<style scoped>\n",
       "    .dataframe tbody tr th:only-of-type {\n",
       "        vertical-align: middle;\n",
       "    }\n",
       "\n",
       "    .dataframe tbody tr th {\n",
       "        vertical-align: top;\n",
       "    }\n",
       "\n",
       "    .dataframe thead th {\n",
       "        text-align: right;\n",
       "    }\n",
       "</style>\n",
       "<table border=\"1\" class=\"dataframe\">\n",
       "  <thead>\n",
       "    <tr style=\"text-align: right;\">\n",
       "      <th></th>\n",
       "      <th>movieId</th>\n",
       "      <th>title</th>\n",
       "      <th>genres</th>\n",
       "      <th>imdbid</th>\n",
       "      <th>year</th>\n",
       "    </tr>\n",
       "  </thead>\n",
       "  <tbody>\n",
       "    <tr>\n",
       "      <th>0</th>\n",
       "      <td>1</td>\n",
       "      <td>Toy Story</td>\n",
       "      <td>[Adventure, Animation, Children, Comedy, Fantasy]</td>\n",
       "      <td>114709</td>\n",
       "      <td>1995</td>\n",
       "    </tr>\n",
       "    <tr>\n",
       "      <th>1</th>\n",
       "      <td>2</td>\n",
       "      <td>Jumanji</td>\n",
       "      <td>[Adventure, Children, Fantasy]</td>\n",
       "      <td>113497</td>\n",
       "      <td>1995</td>\n",
       "    </tr>\n",
       "    <tr>\n",
       "      <th>2</th>\n",
       "      <td>3</td>\n",
       "      <td>Grumpier Old Men</td>\n",
       "      <td>[Comedy, Romance]</td>\n",
       "      <td>113228</td>\n",
       "      <td>1995</td>\n",
       "    </tr>\n",
       "    <tr>\n",
       "      <th>3</th>\n",
       "      <td>4</td>\n",
       "      <td>Waiting to Exhale</td>\n",
       "      <td>[Comedy, Drama, Romance]</td>\n",
       "      <td>114885</td>\n",
       "      <td>1995</td>\n",
       "    </tr>\n",
       "    <tr>\n",
       "      <th>4</th>\n",
       "      <td>5</td>\n",
       "      <td>Father of the Bride Part II</td>\n",
       "      <td>[Comedy]</td>\n",
       "      <td>113041</td>\n",
       "      <td>1995</td>\n",
       "    </tr>\n",
       "  </tbody>\n",
       "</table>\n",
       "</div>"
      ],
      "text/plain": [
       "   movieId                        title  \\\n",
       "0        1                    Toy Story   \n",
       "1        2                      Jumanji   \n",
       "2        3             Grumpier Old Men   \n",
       "3        4            Waiting to Exhale   \n",
       "4        5  Father of the Bride Part II   \n",
       "\n",
       "                                              genres  imdbid  year  \n",
       "0  [Adventure, Animation, Children, Comedy, Fantasy]  114709  1995  \n",
       "1                     [Adventure, Children, Fantasy]  113497  1995  \n",
       "2                                  [Comedy, Romance]  113228  1995  \n",
       "3                           [Comedy, Drama, Romance]  114885  1995  \n",
       "4                                           [Comedy]  113041  1995  "
      ]
     },
     "execution_count": 10,
     "metadata": {},
     "output_type": "execute_result"
    }
   ],
   "source": [
    "moviesdf.head()"
   ]
  },
  {
   "cell_type": "code",
   "execution_count": 11,
   "metadata": {},
   "outputs": [],
   "source": [
    "moviesdf.year.fillna(-1, inplace=True)"
   ]
  },
  {
   "cell_type": "code",
   "execution_count": 12,
   "metadata": {
    "scrolled": true
   },
   "outputs": [],
   "source": [
    "i_movieId, i_title, i_genres, i_imdbid, i_year = 0, 1, 2, 3, 4\n",
    "movies = {}\n",
    "for row in moviesdf.iterrows():\n",
    "    row=row[1]\n",
    "    moviedId = str(row[i_movieId])\n",
    "    \n",
    "    movies.setdefault(moviedId, {})        \n",
    "    \n",
    "    movies[moviedId] = dict(title=row[i_title], genres=row[i_genres], imdbid=row[i_imdbid], year=row[i_year])\n",
    "    \n",
    "    "
   ]
  },
  {
   "cell_type": "code",
   "execution_count": 13,
   "metadata": {},
   "outputs": [],
   "source": [
    "import json\n",
    "json.dump(movies, open('movielens/movies.json','w+'))"
   ]
  },
  {
   "cell_type": "markdown",
   "metadata": {},
   "source": [
    "__format :: movies.json__:\n",
    "\n",
    "{\n",
    "\n",
    "    _movieId_: {\n",
    "\n",
    "        'title': _movie title_,\n",
    "\n",
    "        'genres': [ _genre1_, _genre2_, ..],\n",
    "\n",
    "        'year': _year of release_,\n",
    "\n",
    "        'imdb': _IMDb id of movie_\n",
    "     },\n",
    "     .\n",
    "     .\n",
    "     .\n",
    "}\n",
    "\n",
    "movies.json is a dictionary of movie objects formated as above"
   ]
  },
  {
   "cell_type": "markdown",
   "metadata": {},
   "source": [
    "### 3. genres.json"
   ]
  },
  {
   "cell_type": "code",
   "execution_count": 14,
   "metadata": {},
   "outputs": [],
   "source": [
    "genres={}\n",
    "for movie in movies.keys():\n",
    "    \n",
    "    # genres of this movie\n",
    "    genrelist=movies[movie]['genres']\n",
    "    \n",
    "    # each genre in genrelist\n",
    "    for g in genrelist:\n",
    "        genres.setdefault(g,[])\n",
    "        # classifing movies against genres\n",
    "        genres[g].append(movie)\n",
    "\n"
   ]
  },
  {
   "cell_type": "code",
   "execution_count": 15,
   "metadata": {},
   "outputs": [],
   "source": [
    "json.dump(genres,open('movielens/genres.json','w'))"
   ]
  },
  {
   "cell_type": "markdown",
   "metadata": {},
   "source": [
    "__format :: genres.json__\n",
    "\n",
    "{\n",
    "\n",
    "    genre1: [ _movieId1_, _movieId2, ..],\n",
    "    genre2: [ _movieId1_, _movieId2, ..],\n",
    "    .\n",
    "    .\n",
    "    .\n",
    "\n",
    "}\n",
    "\n",
    "key: genre(string)\n",
    "\n",
    "item: list of movieIds of key genre"
   ]
  },
  {
   "cell_type": "markdown",
   "metadata": {},
   "source": [
    "### 4. years.json"
   ]
  },
  {
   "cell_type": "code",
   "execution_count": 16,
   "metadata": {},
   "outputs": [],
   "source": [
    "years={}\n",
    "for movie in movies.keys():\n",
    "    \n",
    "    # genres of this movie\n",
    "    year=str(movies[movie]['year'])\n",
    "    \n",
    "    if year==-1: continue\n",
    "    \n",
    "    years.setdefault(year,[])\n",
    "    years[year].append(movie)\n",
    "\n"
   ]
  },
  {
   "cell_type": "code",
   "execution_count": 17,
   "metadata": {},
   "outputs": [],
   "source": [
    "json.dump(years, open('movielens/years.json','w'))"
   ]
  },
  {
   "cell_type": "markdown",
   "metadata": {},
   "source": [
    "### 4. ratings.json"
   ]
  },
  {
   "cell_type": "code",
   "execution_count": 18,
   "metadata": {},
   "outputs": [
    {
     "data": {
      "text/html": [
       "<div>\n",
       "<style scoped>\n",
       "    .dataframe tbody tr th:only-of-type {\n",
       "        vertical-align: middle;\n",
       "    }\n",
       "\n",
       "    .dataframe tbody tr th {\n",
       "        vertical-align: top;\n",
       "    }\n",
       "\n",
       "    .dataframe thead th {\n",
       "        text-align: right;\n",
       "    }\n",
       "</style>\n",
       "<table border=\"1\" class=\"dataframe\">\n",
       "  <thead>\n",
       "    <tr style=\"text-align: right;\">\n",
       "      <th></th>\n",
       "      <th>userId</th>\n",
       "      <th>movieId</th>\n",
       "      <th>rating</th>\n",
       "      <th>timestamp</th>\n",
       "    </tr>\n",
       "  </thead>\n",
       "  <tbody>\n",
       "    <tr>\n",
       "      <th>0</th>\n",
       "      <td>1</td>\n",
       "      <td>31</td>\n",
       "      <td>2.5</td>\n",
       "      <td>1260759144</td>\n",
       "    </tr>\n",
       "    <tr>\n",
       "      <th>1</th>\n",
       "      <td>1</td>\n",
       "      <td>1029</td>\n",
       "      <td>3.0</td>\n",
       "      <td>1260759179</td>\n",
       "    </tr>\n",
       "    <tr>\n",
       "      <th>2</th>\n",
       "      <td>1</td>\n",
       "      <td>1061</td>\n",
       "      <td>3.0</td>\n",
       "      <td>1260759182</td>\n",
       "    </tr>\n",
       "    <tr>\n",
       "      <th>3</th>\n",
       "      <td>1</td>\n",
       "      <td>1129</td>\n",
       "      <td>2.0</td>\n",
       "      <td>1260759185</td>\n",
       "    </tr>\n",
       "    <tr>\n",
       "      <th>4</th>\n",
       "      <td>1</td>\n",
       "      <td>1172</td>\n",
       "      <td>4.0</td>\n",
       "      <td>1260759205</td>\n",
       "    </tr>\n",
       "  </tbody>\n",
       "</table>\n",
       "</div>"
      ],
      "text/plain": [
       "   userId  movieId  rating   timestamp\n",
       "0       1       31     2.5  1260759144\n",
       "1       1     1029     3.0  1260759179\n",
       "2       1     1061     3.0  1260759182\n",
       "3       1     1129     2.0  1260759185\n",
       "4       1     1172     4.0  1260759205"
      ]
     },
     "execution_count": 18,
     "metadata": {},
     "output_type": "execute_result"
    }
   ],
   "source": [
    "ratingsdf.head()"
   ]
  },
  {
   "cell_type": "code",
   "execution_count": 174,
   "metadata": {},
   "outputs": [],
   "source": [
    "ratings = {}\n",
    "user_history = {}\n",
    "for row in ratingsdf.iterrows():\n",
    "    row=row[1]\n",
    "    userId = str(int(row[0]))\n",
    "    movieId = str(int(row[1]))\n",
    "    rating = row[2]\n",
    "    timestamp = str(int(row[3]))\n",
    "    \n",
    "    ratings.setdefault(userId,{})\n",
    "    ratings[userId].setdefault('data',{})\n",
    "    ratings[userId].setdefault('meta',{})\n",
    "    ratings[userId]['data'].setdefault(movieId,{})\n",
    "    \n",
    "    ratings[userId]['data'][movieId] = dict(rating=rating, timestamp=timestamp)\n",
    "    \n",
    "for user in ratings.keys():\n",
    "    rs=0\n",
    "    for i,movie in enumerate(ratings[user]['data'].keys()):\n",
    "        rs+=ratings[user]['data'][movie]['rating']\n",
    "    \n",
    "    ratings[user]['meta']['average_rating']=rs/i"
   ]
  },
  {
   "cell_type": "code",
   "execution_count": 191,
   "metadata": {},
   "outputs": [],
   "source": [
    "json.dump(ratings, open('movielens/ratings.json', 'w+'))"
   ]
  },
  {
   "cell_type": "markdown",
   "metadata": {},
   "source": [
    "__format :: ratings.json__\n",
    "\n",
    "{\n",
    "\n",
    "    userId: {\n",
    "\n",
    "        movieId1: {\n",
    "            'rating': 0.0-5.0,\n",
    "            'timestamp': when rated\n",
    "        },\n",
    "        .\n",
    "        .\n",
    "        .\n",
    "    },\n",
    "    .\n",
    "    .\n",
    "    .\n",
    "}\n",
    "\n",
    "__desc__\n",
    "\n",
    "1. ratings.json is a dictionary of all movie ratings\n",
    "2. each user who ever rated a movie has an object in this dictionary\n",
    "3. each user object is a dictionary of rating objects\n",
    "4. each rating object has movieId as key and two properties:\n",
    "    1. user rating of that movie\n",
    "    2. timestamp of rating"
   ]
  },
  {
   "cell_type": "markdown",
   "metadata": {},
   "source": [
    "### 5. Transposed Ratings\n",
    "\n",
    "Iterchange movieId keys with userId keys"
   ]
  },
  {
   "cell_type": "code",
   "execution_count": 296,
   "metadata": {},
   "outputs": [],
   "source": [
    "def transpose(prefs):\n",
    "    tp={}\n",
    "    meta={}\n",
    "    for user in prefs:\n",
    "        for item in prefs[user]['data']:\n",
    "            \n",
    "            tp.setdefault(item,{})\n",
    "            tp[item].setdefault('data',{})\n",
    "            tp[item].setdefault('meta',{})\n",
    "            \n",
    "            tp[item]['data'][user]=prefs[user]['data'][item]\n",
    "            \n",
    "            meta.setdefault(item, {})\n",
    "            meta[item].setdefault('rated_by', 0)\n",
    "            meta[item].setdefault('ratings_sum', 0)\n",
    "            \n",
    "            meta[item]['rated_by']+=1\n",
    "            meta[item]['ratings_sum']+=prefs[user]['data'][item]['rating']\n",
    "    \n",
    "    for movie in tp:\n",
    "        tp[movie]['meta']['average_rating']=meta[movie]['ratings_sum']/meta[movie]['rated_by']\n",
    "    \n",
    "    return tp"
   ]
  },
  {
   "cell_type": "code",
   "execution_count": 300,
   "metadata": {},
   "outputs": [],
   "source": [
    "trans_ratings = transpose(ratings)\n",
    "json.dump(trans_ratings, open('movielens/ratings-transpose.json', 'w'))"
   ]
  },
  {
   "cell_type": "markdown",
   "metadata": {},
   "source": [
    "__format :: ratings-transpose.json__\n",
    "\n",
    "{\n",
    "\n",
    "    movieId: {\n",
    "\n",
    "        userId: {\n",
    "            'rating': x in (0.0, 5.0)\n",
    "            'timestamp': when rated\n",
    "        },\n",
    "        .\n",
    "        .\n",
    "        .\n",
    "    },\n",
    "    .\n",
    "    .\n",
    "    .\n",
    "}"
   ]
  },
  {
   "cell_type": "markdown",
   "metadata": {},
   "source": [
    "## User - Genre Preference Model"
   ]
  },
  {
   "cell_type": "markdown",
   "metadata": {},
   "source": [
    "will calculate preference of each genre for each user"
   ]
  },
  {
   "cell_type": "code",
   "execution_count": 194,
   "metadata": {},
   "outputs": [],
   "source": [
    "import math"
   ]
  },
  {
   "cell_type": "markdown",
   "metadata": {},
   "source": [
    "### Genre Frequency in User Ratings"
   ]
  },
  {
   "cell_type": "code",
   "execution_count": 195,
   "metadata": {},
   "outputs": [],
   "source": [
    "def user_genre_occurence_frequency(prefs, genres, userId, genre):\n",
    "    '''\n",
    "    TODO:\n",
    "        find occurence rate of a genre in user ratings weighted by rating of movies\n",
    "    \n",
    "    HOW:\n",
    "        R(u, m) :\n",
    "            returns ratings by user 'u' for movie 'm'.\n",
    "\n",
    "        T(u, M)\n",
    "            returns total number of movies rated by user 'u' \n",
    "\n",
    "        gf(u, g) = sum( R(u, m); all m in Mu and m of g ) / T(u, M) \n",
    "            ; Mu is set of movies rated by 'u'\n",
    "        \n",
    "            returns occurrence frequency of a particular genre 'g' with user 'u' weighted by\n",
    "            movie ratings.\n",
    "    \n",
    "    WHY:\n",
    "        1. it shows how much of a genre 'g' appeares in user ratings\n",
    "        \n",
    "        2. high value signifies high inclination towards movies of that genre\n",
    "    \n",
    "    RETURN: \n",
    "        gf(u, g)\n",
    "    \n",
    "    \n",
    "    NOTES: \n",
    "        1. analogous to Term Frequency from TF-IDF model\n",
    "    '''\n",
    "    \n",
    "    userPrefs = prefs[userId]['data']\n",
    "    \n",
    "    # total number of movies rated by user; T(u, M)\n",
    "    numRatings=len(userPrefs.keys())\n",
    "    \n",
    "    # if no movies rated by user\n",
    "    if numRatings==0: return 0\n",
    "    \n",
    "    # sum of all movie ratings of this genre; sum( R(u, m) m belongs to Mu and m of g )\n",
    "    sumGenreRatings = sum([ userPrefs[movie]['rating'] for movie in genres[genre] if movie in userPrefs.keys() ])\n",
    "    \n",
    "    # gf(u, g)\n",
    "    return sumGenreRatings/numRatings"
   ]
  },
  {
   "cell_type": "markdown",
   "metadata": {},
   "source": [
    "### Logged inverse genre occurence frequency"
   ]
  },
  {
   "cell_type": "code",
   "execution_count": 196,
   "metadata": {},
   "outputs": [],
   "source": [
    "def inverse_genre_occurence_frequency(movies, genres, genre):\n",
    "    '''\n",
    "    TODO: \n",
    "        find log of inverse occurence frequncy of a genre in all of movies.\n",
    "    \n",
    "    HOW:\n",
    "        T(g, M)\n",
    "            returns total number of movies of genre 'g' in universal movie set 'M'\n",
    "        \n",
    "        T(M)\n",
    "            returns total number of movies in 'M'\n",
    "        \n",
    "        IGF(g, M) = log( T(M)/T(g, M) )\n",
    "            returns log of inverse genre frequency of genre 'g' in 'M'\n",
    "    \n",
    "    WHY:\n",
    "        1. It shows the importance of a genre 'g'; importance increases with value\n",
    "        2. Genres which appear in many movies are not very distinctive hence, not very important\n",
    "           for making recommendations.\n",
    "    \n",
    "    RETURN:\n",
    "        IGF(g, M)\n",
    "    \n",
    "    NOTES: analogous to Inverse Document Frequency from TF-IDF model\n",
    "    '''\n",
    "    # total number of movies in all the dataset; T(M)\n",
    "    N = len(movies.keys())\n",
    "    \n",
    "    # total number of movies of this genre; T(g, M)\n",
    "    n = len(genres[genre])\n",
    "    \n",
    "    # log of inverse genre frequency; IGF(g, M)\n",
    "    return math.log(N/n)\n",
    "    "
   ]
  },
  {
   "cell_type": "markdown",
   "metadata": {},
   "source": [
    "### Genre Preference Score"
   ]
  },
  {
   "cell_type": "code",
   "execution_count": 197,
   "metadata": {},
   "outputs": [],
   "source": [
    "def user_genre_preference_score(prefs, movies, genres, userId, genre):\n",
    "    '''\n",
    "    TODO: \n",
    "        calculate a user's preference score for the given genre\n",
    "    \n",
    "    HOW:\n",
    "        gf(u, g)\n",
    "            preference score of genre 'g' for user 'u'\n",
    "            \n",
    "        IGF(g, M)\n",
    "            inverse genre frequency of genre 'g' in universal movie set 'M'\n",
    "        \n",
    "        p(u, g) = gf(u, g) * IGF(g, M)\n",
    "            returns user 'u' preference score for genre 'g'\n",
    "    \n",
    "    WHY:\n",
    "        1. this stat shows user 'u's subjective preference for the given genre\n",
    "        \n",
    "        2. if user 'u' has seen many movies of genre 'g'; T(u, M) is high and p(u, g) is high, it shows that \n",
    "           user 'u' has high degree of preference for genre 'g' and would like to watch more \n",
    "           movies of this genre. \n",
    "           Recommed more movies of genre 'g'\n",
    "        \n",
    "        3. if user 'u' has seen many movies of genre 'g'; T(u, M) is high but p(u, g) is low, it shows that\n",
    "           user 'u' is intrested in genre 'g' but haven't found satisfying movies of this genre. \n",
    "           Recommend top rated movies of this genre filtered by similar users\n",
    "           \n",
    "        4. if user 'u' has not seen many movies of genre 'g'; T(u, M) is low but p(u, g) is high, it shows that\n",
    "           user 'u' might not be inclined towards genre 'g' but have found the movies they saw intresting.\n",
    "           Recommend top rated movies of this genre filtered by similar users\n",
    "        \n",
    "        5. if user 'u' has not seen many movies of genre 'g'; T(u, M) is low and p(u, g) is low, it shows that\n",
    "           user 'u' is not intrested in this genre and didn't liked the movies they saw.\n",
    "    \n",
    "    RETURN: \n",
    "            p(u, g)\n",
    "        \n",
    "    \n",
    "    NOTES: analogous to IT-IDF model\n",
    "    '''\n",
    "    \n",
    "    # tf of genre; gf(u, g)\n",
    "    gf = user_genre_occurence_frequency(prefs, genres, userId, genre)\n",
    "    \n",
    "    # idf of genre; IGF(g, M)\n",
    "    igf = inverse_genre_occurence_frequency(movies, genres, genre)\n",
    "    \n",
    "    return gf*igf\n",
    "    "
   ]
  },
  {
   "cell_type": "markdown",
   "metadata": {},
   "source": [
    "### Creating Genre Preference Dictionary"
   ]
  },
  {
   "cell_type": "code",
   "execution_count": 198,
   "metadata": {},
   "outputs": [],
   "source": [
    "def create_user_genre_preference_dictionary(prefs, movies, genres):\n",
    "    '''\n",
    "    TODO: create a dictionary of normalized genre preferences of all users for all genres\n",
    "    '''\n",
    "    gps={}\n",
    "\n",
    "    # all userIds\n",
    "    for userId in prefs.keys():\n",
    "        s=0 # sum of genre pref scores for userId; to normalize the score vector\n",
    "\n",
    "        # all genres\n",
    "        for genre in genres.keys():\n",
    "            gps.setdefault(userId,{})\n",
    "            gps[userId].setdefault('meta',{})\n",
    "            gps[userId].setdefault('data',{})\n",
    "\n",
    "            # genre pref score for userId for this genre\n",
    "            score = user_genre_preference_score(prefs, movies, genres, userId, genre)\n",
    "            \n",
    "            s+=score\n",
    "            gps[userId]['data'][genre] = score\n",
    "\n",
    "        # normalization\n",
    "        for genre in gps[userId]['data'].keys():\n",
    "            gps[userId]['data'][genre]= round(gps[userId]['data'][genre]/s,5)\n",
    "        \n",
    "        r_sum=0\n",
    "        genre_rated=0\n",
    "        wmax=0\n",
    "        fav_genre=''\n",
    "        \n",
    "        for genre in gps[userId]['data'].keys():\n",
    "            w=gps[userId]['data'][genre]\n",
    "            r_sum+=w\n",
    "            if w!=0:genre_rated+=1\n",
    "            \n",
    "            if wmax<w:\n",
    "                fav_genre=genre\n",
    "                wmax=w\n",
    "        \n",
    "        \n",
    "        gps[userId]['meta']['fav_genre']=fav_genre\n",
    "        gps[userId]['meta']['average_weight']=r_sum/genre_rated\n",
    "    \n",
    "    return gps\n"
   ]
  },
  {
   "cell_type": "code",
   "execution_count": 199,
   "metadata": {},
   "outputs": [],
   "source": [
    "gps = create_user_genre_preference_dictionary(ratings, movies, genres)\n",
    "json.dump(gps, open('movielens/user-genre-preferences.json','w'))"
   ]
  },
  {
   "cell_type": "markdown",
   "metadata": {},
   "source": [
    "__format :: user-genre-preferences.json__\n",
    "\n",
    "{\n",
    "\n",
    "    userId: {    \n",
    "        \n",
    "        'data': {\n",
    "            genre: preference score,\n",
    "            genre: preference score,\n",
    "            .\n",
    "            .\n",
    "            .\n",
    "         },\n",
    "         \n",
    "         'meta': {\n",
    "             'fav_genre': fav genre,\n",
    "             'avg_weight': average of all genre weights\n",
    "         }\n",
    "     }\n",
    "     .\n",
    "     .\n",
    "     .\n",
    "\n",
    "}\n",
    "\n",
    "__desc__\n",
    "1. dictionary of genre preference scores for all genres of all users"
   ]
  },
  {
   "cell_type": "markdown",
   "metadata": {},
   "source": [
    "## Item-Genre Importance Model"
   ]
  },
  {
   "cell_type": "markdown",
   "metadata": {},
   "source": [
    "will calculate weight of a genre in a movie"
   ]
  },
  {
   "cell_type": "code",
   "execution_count": 301,
   "metadata": {},
   "outputs": [],
   "source": [
    "with open('movielens/ratings-transpose.json','r') as tr:\n",
    "    trans_prefs=json.load(tr)"
   ]
  },
  {
   "cell_type": "code",
   "execution_count": 302,
   "metadata": {},
   "outputs": [],
   "source": [
    "with open('movielens/ratings.json','r') as rj:\n",
    "    prefs = json.load(rj)"
   ]
  },
  {
   "cell_type": "code",
   "execution_count": 303,
   "metadata": {},
   "outputs": [],
   "source": [
    "with open('movielens/user-genre-preferences.json','r') as rj:\n",
    "    genre_prefs = json.load(rj)\n",
    "\n",
    "with open('movielens/movies.json','r') as rj:\n",
    "    movies = json.load(rj)"
   ]
  },
  {
   "cell_type": "code",
   "execution_count": 259,
   "metadata": {},
   "outputs": [],
   "source": [
    "def have_rated_with_ratings(prefs, movie):\n",
    "    users=[]\n",
    "    for user in prefs.keys():\n",
    "        if movie in prefs[user]['data'].keys():\n",
    "            users.append([user, prefs[user]['data'][movie]['rating']])\n",
    "    return np.array(users)"
   ]
  },
  {
   "cell_type": "code",
   "execution_count": 204,
   "metadata": {},
   "outputs": [],
   "source": [
    "users = have_rated_with_ratings(prefs, '1')"
   ]
  },
  {
   "cell_type": "code",
   "execution_count": 205,
   "metadata": {},
   "outputs": [],
   "source": [
    "def movie_genre_weight(prefs,genres, movies, genre_prefs, movie, genre):\n",
    "    \n",
    "    # all users who rated this movie\n",
    "    r_users = have_rated_with_ratings(prefs, movie)\n",
    "    \n",
    "    s=0\n",
    "    gc={}\n",
    "    for row in r_users:\n",
    "        # rating sum of movies with given genre\n",
    "        s+=float(row[1])*genre_prefs[row[0]]['data'][genre]\n",
    "        \n",
    "        # number of genres rated by the users who rated given movie\n",
    "        for g,r in genre_prefs[row[0]]['data'].items():\n",
    "            if r:\n",
    "                gc[g]=1\n",
    "    \n",
    "    \n",
    "    try: return s/len(gc.keys())*inverse_genre_occurence_frequency(genres=genres, movies=movies, genre=genre)\n",
    "    except: return 0\n",
    "    \n",
    "    "
   ]
  },
  {
   "cell_type": "code",
   "execution_count": 315,
   "metadata": {
    "scrolled": false
   },
   "outputs": [
    {
     "name": "stdout",
     "output_type": "stream",
     "text": [
      "500  movies weighed\n",
      "1000  movies weighed\n",
      "1500  movies weighed\n",
      "2000  movies weighed\n",
      "2500  movies weighed\n",
      "3000  movies weighed\n",
      "3500  movies weighed\n",
      "4000  movies weighed\n",
      "4500  movies weighed\n",
      "5000  movies weighed\n",
      "5500  movies weighed\n",
      "6000  movies weighed\n",
      "6500  movies weighed\n",
      "7000  movies weighed\n",
      "7500  movies weighed\n",
      "8000  movies weighed\n",
      "8500  movies weighed\n",
      "9000  movies weighed\n"
     ]
    }
   ],
   "source": [
    "#def create_movies_genre_weight_dictionary()\n",
    "\n",
    "genre_weight={}\n",
    "\n",
    "c=0\n",
    "for movie in movies.keys():\n",
    "    s=0\n",
    "    genre_weight.setdefault(movie,{})\n",
    "    genre_weight[movie].setdefault('data',{})\n",
    "    genre_weight[movie].setdefault('meta',{})\n",
    "    \n",
    "    movie_genre = movies[movie]['genres']\n",
    "    \n",
    "    \n",
    "    c+=1\n",
    "    if not c%500: \n",
    "        print(c,' movies weighed')\n",
    "    \n",
    "    for genre in genres.keys():\n",
    "        if genre not in movie_genre:\n",
    "            w=0\n",
    "        else:\n",
    "            w=movie_genre_weight(prefs, genres, movies, genre_prefs, movie, genre)\n",
    "            \n",
    "        genre_weight[movie]['data'][genre] = w\n",
    "        \n",
    "        s+=w\n",
    "    \n",
    "    wmax=0\n",
    "    heaviest_genre=''\n",
    "    w_sum=0\n",
    "    for g,w in genre_weight[movie]['data'].items():\n",
    "        try: genre_weight[movie]['data'][g]=w/s\n",
    "        except: genre_weight[movie]['data'][g]=w\n",
    "        norm_weight=genre_weight[movie]['data'][g]\n",
    "        \n",
    "        w_sum+=norm_weight\n",
    "        \n",
    "        if wmax<norm_weight:\n",
    "            wmax=norm_weight\n",
    "            heaviest_genre=genre\n",
    "    \n",
    "    genre_weight[movie]['meta']['heaviest_genre']=heaviest_genre\n",
    "    genre_weight[movie]['meta']['average_genre_weight']=w_sum/len(movie_genre)    "
   ]
  },
  {
   "cell_type": "code",
   "execution_count": 317,
   "metadata": {},
   "outputs": [],
   "source": [
    "json.dump(genre_weight, open('movielens/movie-genre-weights.json', 'w'))"
   ]
  },
  {
   "cell_type": "code",
   "execution_count": 318,
   "metadata": {},
   "outputs": [],
   "source": [
    "movie_genre_weights=json.load(open('movielens/movie-genre-weights.json'))"
   ]
  },
  {
   "cell_type": "code",
   "execution_count": 209,
   "metadata": {},
   "outputs": [],
   "source": [
    "def get_common_movies(prefs,u1,u2):\n",
    "    u1m=set(prefs['13'].keys())\n",
    "    u2m=set(prefs['10'].keys())\n",
    "    si = u1m.union(u2m)\n",
    "    return si"
   ]
  },
  {
   "cell_type": "code",
   "execution_count": null,
   "metadata": {},
   "outputs": [],
   "source": []
  },
  {
   "cell_type": "code",
   "execution_count": 276,
   "metadata": {},
   "outputs": [
    {
     "data": {
      "text/plain": [
       "0.06666666666666667"
      ]
     },
     "execution_count": 276,
     "metadata": {},
     "output_type": "execute_result"
    }
   ],
   "source": [
    "genre_prefs['1']['meta']['average_weight']"
   ]
  },
  {
   "cell_type": "code",
   "execution_count": 210,
   "metadata": {},
   "outputs": [],
   "source": [
    "def sim_users(genre_prefs,u1,u2):\n",
    "    u1prefs=genre_prefs[u1]['data']\n",
    "    u2prefs=genre_prefs[u2]['data']\n",
    "    \n",
    "    u1meta=genre_prefs[u1]['meta']\n",
    "    u2meta=genre_prefs[u2]['meta']\n",
    "    \n",
    "    avg_w = u1meta['average_weight']\n",
    "    avg2_w = u2meta['average_weight']\n",
    "\n",
    "    wu1t=[]\n",
    "    for genre, w in u1prefs.items():\n",
    "        wu1t.append(w)\n",
    "\n",
    "    wu2t=[]\n",
    "    for genre, w in u2prefs.items():\n",
    "        wu2t.append(w)\n",
    "    \n",
    "    # dot product of genreprefs normalized by mean genre weight\n",
    "    n= (np.array(wu1t)-avg_w).dot(np.array(wu2t)-avg2_w)\n",
    "    \n",
    "    # product of magnitudes\n",
    "    d = np.linalg.norm(np.array(wu1t)-avg_w)*np.linalg.norm(np.array(wu2t)-avg2_w)\n",
    "\n",
    "    return round(n/d,5)"
   ]
  },
  {
   "cell_type": "code",
   "execution_count": 211,
   "metadata": {},
   "outputs": [
    {
     "data": {
      "text/plain": [
       "0.20663000000000001"
      ]
     },
     "execution_count": 211,
     "metadata": {},
     "output_type": "execute_result"
    }
   ],
   "source": [
    "sim_users(genre_prefs,'71','70')"
   ]
  },
  {
   "cell_type": "code",
   "execution_count": 344,
   "metadata": {},
   "outputs": [],
   "source": [
    "def sim_movie(genre_weights, movie1, movie2):\n",
    "    \n",
    "    wm1=[]\n",
    "    wm2=[]\n",
    "    \n",
    "    avg1=genre_weights[movie1]['meta']['average_genre_weight']\n",
    "    avg2=genre_weights[movie2]['meta']['average_genre_weight']\n",
    "    \n",
    "    for genre, w in genre_weights[movie1]['data'].items():\n",
    "        wm1.append(w-avg1)\n",
    "        \n",
    "    for genre, w in genre_weights[movie2]['data'].items():\n",
    "        wm2.append(w-avg2)\n",
    "    \n",
    "    wm1=np.array(wm1)\n",
    "    wm2=np.array(wm2)\n",
    "    \n",
    "    n=wm1.dot(wm2)\n",
    "    d=np.linalg.norm(wm1)*np.linalg.norm(wm2)\n",
    "    \n",
    "    return round(n/d,4)"
   ]
  },
  {
   "cell_type": "code",
   "execution_count": 345,
   "metadata": {},
   "outputs": [],
   "source": [
    "U=ratingsdf.userId.astype('str').unique()"
   ]
  },
  {
   "cell_type": "code",
   "execution_count": 346,
   "metadata": {},
   "outputs": [
    {
     "data": {
      "text/plain": [
       "{'average_rating': 2.6842105263157894}"
      ]
     },
     "execution_count": 346,
     "metadata": {},
     "output_type": "execute_result"
    }
   ],
   "source": [
    "prefs['1']['meta']"
   ]
  },
  {
   "cell_type": "code",
   "execution_count": 391,
   "metadata": {},
   "outputs": [],
   "source": [
    "def predict(prefs, trans_prefs, genre_prefs, movie_genre_weights, user, movie, sigma=0.5):\n",
    "    \n",
    "    useravgR=prefs[user]['meta']['average_rating']\n",
    "    movieavgR=trans_prefs[movie]['meta']['average_rating']\n",
    "    \n",
    "    otherRatings=have_rated_with_ratings(prefs, movie)\n",
    "    \n",
    "    n1,d1=0,0\n",
    "    for other,rating in otherRatings:\n",
    "        otheravgR=prefs[other]['meta']['average_rating']\n",
    "        score=sim_users(genre_prefs, user, other)\n",
    "        \n",
    "        n1+=score*(float(rating)-otheravgR)\n",
    "        d1+=score\n",
    "    \n",
    "    n2,d2=0,0\n",
    "    for other_movie in prefs[user]['data'].keys():\n",
    "        otheravgR=trans_prefs[other_movie]['meta']['average_rating']\n",
    "        score=sim_movie(movie_genre_weights, movie, other_movie)\n",
    "        \n",
    "        n2+=score*(prefs[user]['data'][other_movie]['rating']-otheravgR)\n",
    "        d2+=score\n",
    "    \n",
    "    return sigma*(useravgR+(n1/d1))+(1-sigma)*(movieavgR+(n2/d2))\n",
    "\n"
   ]
  },
  {
   "cell_type": "code",
   "execution_count": 409,
   "metadata": {},
   "outputs": [
    {
     "name": "stdout",
     "output_type": "stream",
     "text": [
      "12.9 ms ± 71.2 µs per loop (mean ± std. dev. of 7 runs, 100 loops each)\n"
     ]
    }
   ],
   "source": [
    "%%timeit\n",
    "predict(prefs, trans_prefs, genre_prefs, movie_genre_weights, '1', '1', sigma=0.5)"
   ]
  },
  {
   "cell_type": "code",
   "execution_count": 431,
   "metadata": {},
   "outputs": [],
   "source": [
    "err=[]\n",
    "\n",
    "for sigma in [i/10 for i in range(1,15)]:\n",
    "    for user in [str(i) for i in range(1,20)]:\n",
    "        for movie in prefs[user]['data'].keys():\n",
    "            s=prefs[user]['data'][movie]['rating']\n",
    "            p=predict(prefs, trans_prefs, genre_prefs, movie_genre_weights, user,'2455',sigma=sigma)\n",
    "\n",
    "            err.append([sigma, math.sqrt((s-p)**2)])\n",
    "\n",
    "err = pd.DataFrame(np.array(err), columns=['sigma','rmse'])\n"
   ]
  },
  {
   "cell_type": "code",
   "execution_count": 432,
   "metadata": {},
   "outputs": [],
   "source": [
    "%matplotlib inline\n",
    "import matplotlib.pyplot as plt\n",
    "import seaborn as sns"
   ]
  },
  {
   "cell_type": "code",
   "execution_count": 439,
   "metadata": {},
   "outputs": [
    {
     "data": {
      "text/html": [
       "<style  type=\"text/css\" >\n",
       "    #T_ba0b2412_ef30_11e7_a6c0_8056f2bed9b3row0_col0 {\n",
       "            background-color:  #ffff66;\n",
       "        }    #T_ba0b2412_ef30_11e7_a6c0_8056f2bed9b3row0_col1 {\n",
       "            background-color:  #008066;\n",
       "        }    #T_ba0b2412_ef30_11e7_a6c0_8056f2bed9b3row0_col2 {\n",
       "            background-color:  #d4ea66;\n",
       "        }    #T_ba0b2412_ef30_11e7_a6c0_8056f2bed9b3row0_col3 {\n",
       "            background-color:  #cee666;\n",
       "        }    #T_ba0b2412_ef30_11e7_a6c0_8056f2bed9b3row0_col4 {\n",
       "            background-color:  #ffff66;\n",
       "        }    #T_ba0b2412_ef30_11e7_a6c0_8056f2bed9b3row0_col5 {\n",
       "            background-color:  #1c8e66;\n",
       "        }    #T_ba0b2412_ef30_11e7_a6c0_8056f2bed9b3row0_col6 {\n",
       "            background-color:  #ffff66;\n",
       "        }    #T_ba0b2412_ef30_11e7_a6c0_8056f2bed9b3row0_col7 {\n",
       "            background-color:  #ffff66;\n",
       "        }    #T_ba0b2412_ef30_11e7_a6c0_8056f2bed9b3row1_col0 {\n",
       "            background-color:  #ffff66;\n",
       "        }    #T_ba0b2412_ef30_11e7_a6c0_8056f2bed9b3row1_col1 {\n",
       "            background-color:  #2b9566;\n",
       "        }    #T_ba0b2412_ef30_11e7_a6c0_8056f2bed9b3row1_col2 {\n",
       "            background-color:  #ddee66;\n",
       "        }    #T_ba0b2412_ef30_11e7_a6c0_8056f2bed9b3row1_col3 {\n",
       "            background-color:  #b7db66;\n",
       "        }    #T_ba0b2412_ef30_11e7_a6c0_8056f2bed9b3row1_col4 {\n",
       "            background-color:  #e3f166;\n",
       "        }    #T_ba0b2412_ef30_11e7_a6c0_8056f2bed9b3row1_col5 {\n",
       "            background-color:  #2c9666;\n",
       "        }    #T_ba0b2412_ef30_11e7_a6c0_8056f2bed9b3row1_col6 {\n",
       "            background-color:  #e6f266;\n",
       "        }    #T_ba0b2412_ef30_11e7_a6c0_8056f2bed9b3row1_col7 {\n",
       "            background-color:  #fafc66;\n",
       "        }    #T_ba0b2412_ef30_11e7_a6c0_8056f2bed9b3row2_col0 {\n",
       "            background-color:  #ffff66;\n",
       "        }    #T_ba0b2412_ef30_11e7_a6c0_8056f2bed9b3row2_col1 {\n",
       "            background-color:  #52a866;\n",
       "        }    #T_ba0b2412_ef30_11e7_a6c0_8056f2bed9b3row2_col2 {\n",
       "            background-color:  #e4f266;\n",
       "        }    #T_ba0b2412_ef30_11e7_a6c0_8056f2bed9b3row2_col3 {\n",
       "            background-color:  #bfdf66;\n",
       "        }    #T_ba0b2412_ef30_11e7_a6c0_8056f2bed9b3row2_col4 {\n",
       "            background-color:  #c7e366;\n",
       "        }    #T_ba0b2412_ef30_11e7_a6c0_8056f2bed9b3row2_col5 {\n",
       "            background-color:  #1d8e66;\n",
       "        }    #T_ba0b2412_ef30_11e7_a6c0_8056f2bed9b3row2_col6 {\n",
       "            background-color:  #cce666;\n",
       "        }    #T_ba0b2412_ef30_11e7_a6c0_8056f2bed9b3row2_col7 {\n",
       "            background-color:  #f4fa66;\n",
       "        }    #T_ba0b2412_ef30_11e7_a6c0_8056f2bed9b3row3_col0 {\n",
       "            background-color:  #ffff66;\n",
       "        }    #T_ba0b2412_ef30_11e7_a6c0_8056f2bed9b3row3_col1 {\n",
       "            background-color:  #6fb766;\n",
       "        }    #T_ba0b2412_ef30_11e7_a6c0_8056f2bed9b3row3_col2 {\n",
       "            background-color:  #f8fc66;\n",
       "        }    #T_ba0b2412_ef30_11e7_a6c0_8056f2bed9b3row3_col3 {\n",
       "            background-color:  #53a966;\n",
       "        }    #T_ba0b2412_ef30_11e7_a6c0_8056f2bed9b3row3_col4 {\n",
       "            background-color:  #aad466;\n",
       "        }    #T_ba0b2412_ef30_11e7_a6c0_8056f2bed9b3row3_col5 {\n",
       "            background-color:  #028066;\n",
       "        }    #T_ba0b2412_ef30_11e7_a6c0_8056f2bed9b3row3_col6 {\n",
       "            background-color:  #b3d966;\n",
       "        }    #T_ba0b2412_ef30_11e7_a6c0_8056f2bed9b3row3_col7 {\n",
       "            background-color:  #eef666;\n",
       "        }    #T_ba0b2412_ef30_11e7_a6c0_8056f2bed9b3row4_col0 {\n",
       "            background-color:  #ffff66;\n",
       "        }    #T_ba0b2412_ef30_11e7_a6c0_8056f2bed9b3row4_col1 {\n",
       "            background-color:  #8ac466;\n",
       "        }    #T_ba0b2412_ef30_11e7_a6c0_8056f2bed9b3row4_col2 {\n",
       "            background-color:  #ffff66;\n",
       "        }    #T_ba0b2412_ef30_11e7_a6c0_8056f2bed9b3row4_col3 {\n",
       "            background-color:  #6fb766;\n",
       "        }    #T_ba0b2412_ef30_11e7_a6c0_8056f2bed9b3row4_col4 {\n",
       "            background-color:  #8ec666;\n",
       "        }    #T_ba0b2412_ef30_11e7_a6c0_8056f2bed9b3row4_col5 {\n",
       "            background-color:  #008066;\n",
       "        }    #T_ba0b2412_ef30_11e7_a6c0_8056f2bed9b3row4_col6 {\n",
       "            background-color:  #99cc66;\n",
       "        }    #T_ba0b2412_ef30_11e7_a6c0_8056f2bed9b3row4_col7 {\n",
       "            background-color:  #e8f466;\n",
       "        }    #T_ba0b2412_ef30_11e7_a6c0_8056f2bed9b3row5_col0 {\n",
       "            background-color:  #ffff66;\n",
       "        }    #T_ba0b2412_ef30_11e7_a6c0_8056f2bed9b3row5_col1 {\n",
       "            background-color:  #a4d266;\n",
       "        }    #T_ba0b2412_ef30_11e7_a6c0_8056f2bed9b3row5_col2 {\n",
       "            background-color:  #fcfe66;\n",
       "        }    #T_ba0b2412_ef30_11e7_a6c0_8056f2bed9b3row5_col3 {\n",
       "            background-color:  #ffff66;\n",
       "        }    #T_ba0b2412_ef30_11e7_a6c0_8056f2bed9b3row5_col4 {\n",
       "            background-color:  #71b866;\n",
       "        }    #T_ba0b2412_ef30_11e7_a6c0_8056f2bed9b3row5_col5 {\n",
       "            background-color:  #008066;\n",
       "        }    #T_ba0b2412_ef30_11e7_a6c0_8056f2bed9b3row5_col6 {\n",
       "            background-color:  #7fbf66;\n",
       "        }    #T_ba0b2412_ef30_11e7_a6c0_8056f2bed9b3row5_col7 {\n",
       "            background-color:  #e1f066;\n",
       "        }    #T_ba0b2412_ef30_11e7_a6c0_8056f2bed9b3row6_col0 {\n",
       "            background-color:  #ffff66;\n",
       "        }    #T_ba0b2412_ef30_11e7_a6c0_8056f2bed9b3row6_col1 {\n",
       "            background-color:  #badc66;\n",
       "        }    #T_ba0b2412_ef30_11e7_a6c0_8056f2bed9b3row6_col2 {\n",
       "            background-color:  #f6fa66;\n",
       "        }    #T_ba0b2412_ef30_11e7_a6c0_8056f2bed9b3row6_col3 {\n",
       "            background-color:  #ffff66;\n",
       "        }    #T_ba0b2412_ef30_11e7_a6c0_8056f2bed9b3row6_col4 {\n",
       "            background-color:  #55aa66;\n",
       "        }    #T_ba0b2412_ef30_11e7_a6c0_8056f2bed9b3row6_col5 {\n",
       "            background-color:  #118866;\n",
       "        }    #T_ba0b2412_ef30_11e7_a6c0_8056f2bed9b3row6_col6 {\n",
       "            background-color:  #66b266;\n",
       "        }    #T_ba0b2412_ef30_11e7_a6c0_8056f2bed9b3row6_col7 {\n",
       "            background-color:  #c5e266;\n",
       "        }    #T_ba0b2412_ef30_11e7_a6c0_8056f2bed9b3row7_col0 {\n",
       "            background-color:  #ffff66;\n",
       "        }    #T_ba0b2412_ef30_11e7_a6c0_8056f2bed9b3row7_col1 {\n",
       "            background-color:  #cbe566;\n",
       "        }    #T_ba0b2412_ef30_11e7_a6c0_8056f2bed9b3row7_col2 {\n",
       "            background-color:  #ecf666;\n",
       "        }    #T_ba0b2412_ef30_11e7_a6c0_8056f2bed9b3row7_col3 {\n",
       "            background-color:  #008066;\n",
       "        }    #T_ba0b2412_ef30_11e7_a6c0_8056f2bed9b3row7_col4 {\n",
       "            background-color:  #389c66;\n",
       "        }    #T_ba0b2412_ef30_11e7_a6c0_8056f2bed9b3row7_col5 {\n",
       "            background-color:  #008066;\n",
       "        }    #T_ba0b2412_ef30_11e7_a6c0_8056f2bed9b3row7_col6 {\n",
       "            background-color:  #4ca666;\n",
       "        }    #T_ba0b2412_ef30_11e7_a6c0_8056f2bed9b3row7_col7 {\n",
       "            background-color:  #a9d466;\n",
       "        }    #T_ba0b2412_ef30_11e7_a6c0_8056f2bed9b3row8_col0 {\n",
       "            background-color:  #ffff66;\n",
       "        }    #T_ba0b2412_ef30_11e7_a6c0_8056f2bed9b3row8_col1 {\n",
       "            background-color:  #dcee66;\n",
       "        }    #T_ba0b2412_ef30_11e7_a6c0_8056f2bed9b3row8_col2 {\n",
       "            background-color:  #d2e866;\n",
       "        }    #T_ba0b2412_ef30_11e7_a6c0_8056f2bed9b3row8_col3 {\n",
       "            background-color:  #9bcd66;\n",
       "        }    #T_ba0b2412_ef30_11e7_a6c0_8056f2bed9b3row8_col4 {\n",
       "            background-color:  #1c8e66;\n",
       "        }    #T_ba0b2412_ef30_11e7_a6c0_8056f2bed9b3row8_col5 {\n",
       "            background-color:  #068266;\n",
       "        }    #T_ba0b2412_ef30_11e7_a6c0_8056f2bed9b3row8_col6 {\n",
       "            background-color:  #339966;\n",
       "        }    #T_ba0b2412_ef30_11e7_a6c0_8056f2bed9b3row8_col7 {\n",
       "            background-color:  #8dc666;\n",
       "        }    #T_ba0b2412_ef30_11e7_a6c0_8056f2bed9b3row9_col0 {\n",
       "            background-color:  #ffff66;\n",
       "        }    #T_ba0b2412_ef30_11e7_a6c0_8056f2bed9b3row9_col1 {\n",
       "            background-color:  #ebf566;\n",
       "        }    #T_ba0b2412_ef30_11e7_a6c0_8056f2bed9b3row9_col2 {\n",
       "            background-color:  #add666;\n",
       "        }    #T_ba0b2412_ef30_11e7_a6c0_8056f2bed9b3row9_col3 {\n",
       "            background-color:  #59ac66;\n",
       "        }    #T_ba0b2412_ef30_11e7_a6c0_8056f2bed9b3row9_col4 {\n",
       "            background-color:  #008066;\n",
       "        }    #T_ba0b2412_ef30_11e7_a6c0_8056f2bed9b3row9_col5 {\n",
       "            background-color:  #259266;\n",
       "        }    #T_ba0b2412_ef30_11e7_a6c0_8056f2bed9b3row9_col6 {\n",
       "            background-color:  #198c66;\n",
       "        }    #T_ba0b2412_ef30_11e7_a6c0_8056f2bed9b3row9_col7 {\n",
       "            background-color:  #70b866;\n",
       "        }    #T_ba0b2412_ef30_11e7_a6c0_8056f2bed9b3row10_col0 {\n",
       "            background-color:  #ffff66;\n",
       "        }    #T_ba0b2412_ef30_11e7_a6c0_8056f2bed9b3row10_col1 {\n",
       "            background-color:  #fafc66;\n",
       "        }    #T_ba0b2412_ef30_11e7_a6c0_8056f2bed9b3row10_col2 {\n",
       "            background-color:  #7bbd66;\n",
       "        }    #T_ba0b2412_ef30_11e7_a6c0_8056f2bed9b3row10_col3 {\n",
       "            background-color:  #cce666;\n",
       "        }    #T_ba0b2412_ef30_11e7_a6c0_8056f2bed9b3row10_col4 {\n",
       "            background-color:  #2e9666;\n",
       "        }    #T_ba0b2412_ef30_11e7_a6c0_8056f2bed9b3row10_col5 {\n",
       "            background-color:  #5cae66;\n",
       "        }    #T_ba0b2412_ef30_11e7_a6c0_8056f2bed9b3row10_col6 {\n",
       "            background-color:  #008066;\n",
       "        }    #T_ba0b2412_ef30_11e7_a6c0_8056f2bed9b3row10_col7 {\n",
       "            background-color:  #54aa66;\n",
       "        }    #T_ba0b2412_ef30_11e7_a6c0_8056f2bed9b3row11_col0 {\n",
       "            background-color:  #ffff66;\n",
       "        }    #T_ba0b2412_ef30_11e7_a6c0_8056f2bed9b3row11_col1 {\n",
       "            background-color:  #ffff66;\n",
       "        }    #T_ba0b2412_ef30_11e7_a6c0_8056f2bed9b3row11_col2 {\n",
       "            background-color:  #53a966;\n",
       "        }    #T_ba0b2412_ef30_11e7_a6c0_8056f2bed9b3row11_col3 {\n",
       "            background-color:  #fdfe66;\n",
       "        }    #T_ba0b2412_ef30_11e7_a6c0_8056f2bed9b3row11_col4 {\n",
       "            background-color:  #0b8566;\n",
       "        }    #T_ba0b2412_ef30_11e7_a6c0_8056f2bed9b3row11_col5 {\n",
       "            background-color:  #92c866;\n",
       "        }    #T_ba0b2412_ef30_11e7_a6c0_8056f2bed9b3row11_col6 {\n",
       "            background-color:  #028066;\n",
       "        }    #T_ba0b2412_ef30_11e7_a6c0_8056f2bed9b3row11_col7 {\n",
       "            background-color:  #389c66;\n",
       "        }    #T_ba0b2412_ef30_11e7_a6c0_8056f2bed9b3row12_col0 {\n",
       "            background-color:  #ffff66;\n",
       "        }    #T_ba0b2412_ef30_11e7_a6c0_8056f2bed9b3row12_col1 {\n",
       "            background-color:  #fdfe66;\n",
       "        }    #T_ba0b2412_ef30_11e7_a6c0_8056f2bed9b3row12_col2 {\n",
       "            background-color:  #319866;\n",
       "        }    #T_ba0b2412_ef30_11e7_a6c0_8056f2bed9b3row12_col3 {\n",
       "            background-color:  #a7d366;\n",
       "        }    #T_ba0b2412_ef30_11e7_a6c0_8056f2bed9b3row12_col4 {\n",
       "            background-color:  #028066;\n",
       "        }    #T_ba0b2412_ef30_11e7_a6c0_8056f2bed9b3row12_col5 {\n",
       "            background-color:  #c9e466;\n",
       "        }    #T_ba0b2412_ef30_11e7_a6c0_8056f2bed9b3row12_col6 {\n",
       "            background-color:  #1b8d66;\n",
       "        }    #T_ba0b2412_ef30_11e7_a6c0_8056f2bed9b3row12_col7 {\n",
       "            background-color:  #1c8e66;\n",
       "        }    #T_ba0b2412_ef30_11e7_a6c0_8056f2bed9b3row13_col0 {\n",
       "            background-color:  #ffff66;\n",
       "        }    #T_ba0b2412_ef30_11e7_a6c0_8056f2bed9b3row13_col1 {\n",
       "            background-color:  #fbfd66;\n",
       "        }    #T_ba0b2412_ef30_11e7_a6c0_8056f2bed9b3row13_col2 {\n",
       "            background-color:  #008066;\n",
       "        }    #T_ba0b2412_ef30_11e7_a6c0_8056f2bed9b3row13_col3 {\n",
       "            background-color:  #50a866;\n",
       "        }    #T_ba0b2412_ef30_11e7_a6c0_8056f2bed9b3row13_col4 {\n",
       "            background-color:  #1e8e66;\n",
       "        }    #T_ba0b2412_ef30_11e7_a6c0_8056f2bed9b3row13_col5 {\n",
       "            background-color:  #ffff66;\n",
       "        }    #T_ba0b2412_ef30_11e7_a6c0_8056f2bed9b3row13_col6 {\n",
       "            background-color:  #359a66;\n",
       "        }    #T_ba0b2412_ef30_11e7_a6c0_8056f2bed9b3row13_col7 {\n",
       "            background-color:  #008066;\n",
       "        }</style>  \n",
       "<table id=\"T_ba0b2412_ef30_11e7_a6c0_8056f2bed9b3\" > \n",
       "<thead>    <tr> \n",
       "        <th class=\"blank level0\" ></th> \n",
       "        <th class=\"col_heading level0 col0\" colspan=8>rmse</th> \n",
       "    </tr>    <tr> \n",
       "        <th class=\"blank level1\" ></th> \n",
       "        <th class=\"col_heading level1 col0\" >count</th> \n",
       "        <th class=\"col_heading level1 col1\" >mean</th> \n",
       "        <th class=\"col_heading level1 col2\" >std</th> \n",
       "        <th class=\"col_heading level1 col3\" >min</th> \n",
       "        <th class=\"col_heading level1 col4\" >25%</th> \n",
       "        <th class=\"col_heading level1 col5\" >50%</th> \n",
       "        <th class=\"col_heading level1 col6\" >75%</th> \n",
       "        <th class=\"col_heading level1 col7\" >max</th> \n",
       "    </tr>    <tr> \n",
       "        <th class=\"index_name level0\" >sigma</th> \n",
       "        <th class=\"blank\" ></th> \n",
       "        <th class=\"blank\" ></th> \n",
       "        <th class=\"blank\" ></th> \n",
       "        <th class=\"blank\" ></th> \n",
       "        <th class=\"blank\" ></th> \n",
       "        <th class=\"blank\" ></th> \n",
       "        <th class=\"blank\" ></th> \n",
       "        <th class=\"blank\" ></th> \n",
       "    </tr></thead> \n",
       "<tbody>    <tr> \n",
       "        <th id=\"T_ba0b2412_ef30_11e7_a6c0_8056f2bed9b3level0_row0\" class=\"row_heading level0 row0\" >0.1</th> \n",
       "        <td id=\"T_ba0b2412_ef30_11e7_a6c0_8056f2bed9b3row0_col0\" class=\"data row0 col0\" >3528</td> \n",
       "        <td id=\"T_ba0b2412_ef30_11e7_a6c0_8056f2bed9b3row0_col1\" class=\"data row0 col1\" >0.933874</td> \n",
       "        <td id=\"T_ba0b2412_ef30_11e7_a6c0_8056f2bed9b3row0_col2\" class=\"data row0 col2\" >0.637752</td> \n",
       "        <td id=\"T_ba0b2412_ef30_11e7_a6c0_8056f2bed9b3row0_col3\" class=\"data row0 col3\" >0.00513834</td> \n",
       "        <td id=\"T_ba0b2412_ef30_11e7_a6c0_8056f2bed9b3row0_col4\" class=\"data row0 col4\" >0.377445</td> \n",
       "        <td id=\"T_ba0b2412_ef30_11e7_a6c0_8056f2bed9b3row0_col5\" class=\"data row0 col5\" >0.802337</td> \n",
       "        <td id=\"T_ba0b2412_ef30_11e7_a6c0_8056f2bed9b3row0_col6\" class=\"data row0 col6\" >1.37745</td> \n",
       "        <td id=\"T_ba0b2412_ef30_11e7_a6c0_8056f2bed9b3row0_col7\" class=\"data row0 col7\" >3.12918</td> \n",
       "    </tr>    <tr> \n",
       "        <th id=\"T_ba0b2412_ef30_11e7_a6c0_8056f2bed9b3level0_row1\" class=\"row_heading level0 row1\" >0.2</th> \n",
       "        <td id=\"T_ba0b2412_ef30_11e7_a6c0_8056f2bed9b3row1_col0\" class=\"data row1 col0\" >3528</td> \n",
       "        <td id=\"T_ba0b2412_ef30_11e7_a6c0_8056f2bed9b3row1_col1\" class=\"data row1 col1\" >0.931447</td> \n",
       "        <td id=\"T_ba0b2412_ef30_11e7_a6c0_8056f2bed9b3row1_col2\" class=\"data row1 col2\" >0.637486</td> \n",
       "        <td id=\"T_ba0b2412_ef30_11e7_a6c0_8056f2bed9b3row1_col3\" class=\"data row1 col3\" >0.00737173</td> \n",
       "        <td id=\"T_ba0b2412_ef30_11e7_a6c0_8056f2bed9b3row1_col4\" class=\"data row1 col4\" >0.389167</td> \n",
       "        <td id=\"T_ba0b2412_ef30_11e7_a6c0_8056f2bed9b3row1_col5\" class=\"data row1 col5\" >0.793864</td> \n",
       "        <td id=\"T_ba0b2412_ef30_11e7_a6c0_8056f2bed9b3row1_col6\" class=\"data row1 col6\" >1.38917</td> \n",
       "        <td id=\"T_ba0b2412_ef30_11e7_a6c0_8056f2bed9b3row1_col7\" class=\"data row1 col7\" >3.13638</td> \n",
       "    </tr>    <tr> \n",
       "        <th id=\"T_ba0b2412_ef30_11e7_a6c0_8056f2bed9b3level0_row2\" class=\"row_heading level0 row2\" >0.3</th> \n",
       "        <td id=\"T_ba0b2412_ef30_11e7_a6c0_8056f2bed9b3row2_col0\" class=\"data row2 col0\" >3528</td> \n",
       "        <td id=\"T_ba0b2412_ef30_11e7_a6c0_8056f2bed9b3row2_col1\" class=\"data row2 col1\" >0.9293</td> \n",
       "        <td id=\"T_ba0b2412_ef30_11e7_a6c0_8056f2bed9b3row2_col2\" class=\"data row2 col2\" >0.637261</td> \n",
       "        <td id=\"T_ba0b2412_ef30_11e7_a6c0_8056f2bed9b3row2_col3\" class=\"data row2 col3\" >0.00661571</td> \n",
       "        <td id=\"T_ba0b2412_ef30_11e7_a6c0_8056f2bed9b3row2_col4\" class=\"data row2 col4\" >0.400889</td> \n",
       "        <td id=\"T_ba0b2412_ef30_11e7_a6c0_8056f2bed9b3row2_col5\" class=\"data row2 col5\" >0.801745</td> \n",
       "        <td id=\"T_ba0b2412_ef30_11e7_a6c0_8056f2bed9b3row2_col6\" class=\"data row2 col6\" >1.40089</td> \n",
       "        <td id=\"T_ba0b2412_ef30_11e7_a6c0_8056f2bed9b3row2_col7\" class=\"data row2 col7\" >3.14358</td> \n",
       "    </tr>    <tr> \n",
       "        <th id=\"T_ba0b2412_ef30_11e7_a6c0_8056f2bed9b3level0_row3\" class=\"row_heading level0 row3\" >0.4</th> \n",
       "        <td id=\"T_ba0b2412_ef30_11e7_a6c0_8056f2bed9b3row3_col0\" class=\"data row3 col0\" >3528</td> \n",
       "        <td id=\"T_ba0b2412_ef30_11e7_a6c0_8056f2bed9b3row3_col1\" class=\"data row3 col1\" >0.927697</td> \n",
       "        <td id=\"T_ba0b2412_ef30_11e7_a6c0_8056f2bed9b3row3_col2\" class=\"data row3 col2\" >0.636691</td> \n",
       "        <td id=\"T_ba0b2412_ef30_11e7_a6c0_8056f2bed9b3row3_col3\" class=\"data row3 col3\" >0.0172869</td> \n",
       "        <td id=\"T_ba0b2412_ef30_11e7_a6c0_8056f2bed9b3row3_col4\" class=\"data row3 col4\" >0.41261</td> \n",
       "        <td id=\"T_ba0b2412_ef30_11e7_a6c0_8056f2bed9b3row3_col5\" class=\"data row3 col5\" >0.815537</td> \n",
       "        <td id=\"T_ba0b2412_ef30_11e7_a6c0_8056f2bed9b3row3_col6\" class=\"data row3 col6\" >1.41261</td> \n",
       "        <td id=\"T_ba0b2412_ef30_11e7_a6c0_8056f2bed9b3row3_col7\" class=\"data row3 col7\" >3.15079</td> \n",
       "    </tr>    <tr> \n",
       "        <th id=\"T_ba0b2412_ef30_11e7_a6c0_8056f2bed9b3level0_row4\" class=\"row_heading level0 row4\" >0.5</th> \n",
       "        <td id=\"T_ba0b2412_ef30_11e7_a6c0_8056f2bed9b3row4_col0\" class=\"data row4 col0\" >3528</td> \n",
       "        <td id=\"T_ba0b2412_ef30_11e7_a6c0_8056f2bed9b3row4_col1\" class=\"data row4 col1\" >0.926169</td> \n",
       "        <td id=\"T_ba0b2412_ef30_11e7_a6c0_8056f2bed9b3row4_col2\" class=\"data row4 col2\" >0.636465</td> \n",
       "        <td id=\"T_ba0b2412_ef30_11e7_a6c0_8056f2bed9b3row4_col3\" class=\"data row4 col3\" >0.0145357</td> \n",
       "        <td id=\"T_ba0b2412_ef30_11e7_a6c0_8056f2bed9b3row4_col4\" class=\"data row4 col4\" >0.424332</td> \n",
       "        <td id=\"T_ba0b2412_ef30_11e7_a6c0_8056f2bed9b3row4_col5\" class=\"data row4 col5\" >0.816245</td> \n",
       "        <td id=\"T_ba0b2412_ef30_11e7_a6c0_8056f2bed9b3row4_col6\" class=\"data row4 col6\" >1.42433</td> \n",
       "        <td id=\"T_ba0b2412_ef30_11e7_a6c0_8056f2bed9b3row4_col7\" class=\"data row4 col7\" >3.15799</td> \n",
       "    </tr>    <tr> \n",
       "        <th id=\"T_ba0b2412_ef30_11e7_a6c0_8056f2bed9b3level0_row5\" class=\"row_heading level0 row5\" >0.6</th> \n",
       "        <td id=\"T_ba0b2412_ef30_11e7_a6c0_8056f2bed9b3row5_col0\" class=\"data row5 col0\" >3528</td> \n",
       "        <td id=\"T_ba0b2412_ef30_11e7_a6c0_8056f2bed9b3row5_col1\" class=\"data row5 col1\" >0.92473</td> \n",
       "        <td id=\"T_ba0b2412_ef30_11e7_a6c0_8056f2bed9b3row5_col2\" class=\"data row5 col2\" >0.636562</td> \n",
       "        <td id=\"T_ba0b2412_ef30_11e7_a6c0_8056f2bed9b3row5_col3\" class=\"data row5 col3\" >0.000247097</td> \n",
       "        <td id=\"T_ba0b2412_ef30_11e7_a6c0_8056f2bed9b3row5_col4\" class=\"data row5 col4\" >0.436054</td> \n",
       "        <td id=\"T_ba0b2412_ef30_11e7_a6c0_8056f2bed9b3row5_col5\" class=\"data row5 col5\" >0.816724</td> \n",
       "        <td id=\"T_ba0b2412_ef30_11e7_a6c0_8056f2bed9b3row5_col6\" class=\"data row5 col6\" >1.43605</td> \n",
       "        <td id=\"T_ba0b2412_ef30_11e7_a6c0_8056f2bed9b3row5_col7\" class=\"data row5 col7\" >3.16565</td> \n",
       "    </tr>    <tr> \n",
       "        <th id=\"T_ba0b2412_ef30_11e7_a6c0_8056f2bed9b3level0_row6\" class=\"row_heading level0 row6\" >0.7</th> \n",
       "        <td id=\"T_ba0b2412_ef30_11e7_a6c0_8056f2bed9b3row6_col0\" class=\"data row6 col0\" >3528</td> \n",
       "        <td id=\"T_ba0b2412_ef30_11e7_a6c0_8056f2bed9b3row6_col1\" class=\"data row6 col1\" >0.923549</td> \n",
       "        <td id=\"T_ba0b2412_ef30_11e7_a6c0_8056f2bed9b3row6_col2\" class=\"data row6 col2\" >0.63674</td> \n",
       "        <td id=\"T_ba0b2412_ef30_11e7_a6c0_8056f2bed9b3row6_col3\" class=\"data row6 col3\" >0.000215526</td> \n",
       "        <td id=\"T_ba0b2412_ef30_11e7_a6c0_8056f2bed9b3row6_col4\" class=\"data row6 col4\" >0.447776</td> \n",
       "        <td id=\"T_ba0b2412_ef30_11e7_a6c0_8056f2bed9b3row6_col5\" class=\"data row6 col5\" >0.807721</td> \n",
       "        <td id=\"T_ba0b2412_ef30_11e7_a6c0_8056f2bed9b3row6_col6\" class=\"data row6 col6\" >1.44778</td> \n",
       "        <td id=\"T_ba0b2412_ef30_11e7_a6c0_8056f2bed9b3row6_col7\" class=\"data row6 col7\" >3.19981</td> \n",
       "    </tr>    <tr> \n",
       "        <th id=\"T_ba0b2412_ef30_11e7_a6c0_8056f2bed9b3level0_row7\" class=\"row_heading level0 row7\" >0.8</th> \n",
       "        <td id=\"T_ba0b2412_ef30_11e7_a6c0_8056f2bed9b3row7_col0\" class=\"data row7 col0\" >3528</td> \n",
       "        <td id=\"T_ba0b2412_ef30_11e7_a6c0_8056f2bed9b3row7_col1\" class=\"data row7 col1\" >0.922598</td> \n",
       "        <td id=\"T_ba0b2412_ef30_11e7_a6c0_8056f2bed9b3row7_col2\" class=\"data row7 col2\" >0.637038</td> \n",
       "        <td id=\"T_ba0b2412_ef30_11e7_a6c0_8056f2bed9b3row7_col3\" class=\"data row7 col3\" >0.0255618</td> \n",
       "        <td id=\"T_ba0b2412_ef30_11e7_a6c0_8056f2bed9b3row7_col4\" class=\"data row7 col4\" >0.459497</td> \n",
       "        <td id=\"T_ba0b2412_ef30_11e7_a6c0_8056f2bed9b3row7_col5\" class=\"data row7 col5\" >0.816341</td> \n",
       "        <td id=\"T_ba0b2412_ef30_11e7_a6c0_8056f2bed9b3row7_col6\" class=\"data row7 col6\" >1.4595</td> \n",
       "        <td id=\"T_ba0b2412_ef30_11e7_a6c0_8056f2bed9b3row7_col7\" class=\"data row7 col7\" >3.23397</td> \n",
       "    </tr>    <tr> \n",
       "        <th id=\"T_ba0b2412_ef30_11e7_a6c0_8056f2bed9b3level0_row8\" class=\"row_heading level0 row8\" >0.9</th> \n",
       "        <td id=\"T_ba0b2412_ef30_11e7_a6c0_8056f2bed9b3row8_col0\" class=\"data row8 col0\" >3528</td> \n",
       "        <td id=\"T_ba0b2412_ef30_11e7_a6c0_8056f2bed9b3row8_col1\" class=\"data row8 col1\" >0.921647</td> \n",
       "        <td id=\"T_ba0b2412_ef30_11e7_a6c0_8056f2bed9b3row8_col2\" class=\"data row8 col2\" >0.637792</td> \n",
       "        <td id=\"T_ba0b2412_ef30_11e7_a6c0_8056f2bed9b3row8_col3\" class=\"data row8 col3\" >0.0101623</td> \n",
       "        <td id=\"T_ba0b2412_ef30_11e7_a6c0_8056f2bed9b3row8_col4\" class=\"data row8 col4\" >0.471219</td> \n",
       "        <td id=\"T_ba0b2412_ef30_11e7_a6c0_8056f2bed9b3row8_col5\" class=\"data row8 col5\" >0.813191</td> \n",
       "        <td id=\"T_ba0b2412_ef30_11e7_a6c0_8056f2bed9b3row8_col6\" class=\"data row8 col6\" >1.47122</td> \n",
       "        <td id=\"T_ba0b2412_ef30_11e7_a6c0_8056f2bed9b3row8_col7\" class=\"data row8 col7\" >3.26813</td> \n",
       "    </tr>    <tr> \n",
       "        <th id=\"T_ba0b2412_ef30_11e7_a6c0_8056f2bed9b3level0_row9\" class=\"row_heading level0 row9\" >1.0</th> \n",
       "        <td id=\"T_ba0b2412_ef30_11e7_a6c0_8056f2bed9b3row9_col0\" class=\"data row9 col0\" >3528</td> \n",
       "        <td id=\"T_ba0b2412_ef30_11e7_a6c0_8056f2bed9b3row9_col1\" class=\"data row9 col1\" >0.920781</td> \n",
       "        <td id=\"T_ba0b2412_ef30_11e7_a6c0_8056f2bed9b3row9_col2\" class=\"data row9 col2\" >0.638874</td> \n",
       "        <td id=\"T_ba0b2412_ef30_11e7_a6c0_8056f2bed9b3row9_col3\" class=\"data row9 col3\" >0.0167433</td> \n",
       "        <td id=\"T_ba0b2412_ef30_11e7_a6c0_8056f2bed9b3row9_col4\" class=\"data row9 col4\" >0.482941</td> \n",
       "        <td id=\"T_ba0b2412_ef30_11e7_a6c0_8056f2bed9b3row9_col5\" class=\"data row9 col5\" >0.797409</td> \n",
       "        <td id=\"T_ba0b2412_ef30_11e7_a6c0_8056f2bed9b3row9_col6\" class=\"data row9 col6\" >1.48294</td> \n",
       "        <td id=\"T_ba0b2412_ef30_11e7_a6c0_8056f2bed9b3row9_col7\" class=\"data row9 col7\" >3.30229</td> \n",
       "    </tr>    <tr> \n",
       "        <th id=\"T_ba0b2412_ef30_11e7_a6c0_8056f2bed9b3level0_row10\" class=\"row_heading level0 row10\" >1.1</th> \n",
       "        <td id=\"T_ba0b2412_ef30_11e7_a6c0_8056f2bed9b3row10_col0\" class=\"data row10 col0\" >3528</td> \n",
       "        <td id=\"T_ba0b2412_ef30_11e7_a6c0_8056f2bed9b3row10_col1\" class=\"data row10 col1\" >0.919967</td> \n",
       "        <td id=\"T_ba0b2412_ef30_11e7_a6c0_8056f2bed9b3row10_col2\" class=\"data row10 col2\" >0.640334</td> \n",
       "        <td id=\"T_ba0b2412_ef30_11e7_a6c0_8056f2bed9b3row10_col3\" class=\"data row10 col3\" >0.00533742</td> \n",
       "        <td id=\"T_ba0b2412_ef30_11e7_a6c0_8056f2bed9b3row10_col4\" class=\"data row10 col4\" >0.463734</td> \n",
       "        <td id=\"T_ba0b2412_ef30_11e7_a6c0_8056f2bed9b3row10_col5\" class=\"data row10 col5\" >0.769412</td> \n",
       "        <td id=\"T_ba0b2412_ef30_11e7_a6c0_8056f2bed9b3row10_col6\" class=\"data row10 col6\" >1.49466</td> \n",
       "        <td id=\"T_ba0b2412_ef30_11e7_a6c0_8056f2bed9b3row10_col7\" class=\"data row10 col7\" >3.33644</td> \n",
       "    </tr>    <tr> \n",
       "        <th id=\"T_ba0b2412_ef30_11e7_a6c0_8056f2bed9b3level0_row11\" class=\"row_heading level0 row11\" >1.2</th> \n",
       "        <td id=\"T_ba0b2412_ef30_11e7_a6c0_8056f2bed9b3row11_col0\" class=\"data row11 col0\" >3528</td> \n",
       "        <td id=\"T_ba0b2412_ef30_11e7_a6c0_8056f2bed9b3row11_col1\" class=\"data row11 col1\" >0.919665</td> \n",
       "        <td id=\"T_ba0b2412_ef30_11e7_a6c0_8056f2bed9b3row11_col2\" class=\"data row11 col2\" >0.64151</td> \n",
       "        <td id=\"T_ba0b2412_ef30_11e7_a6c0_8056f2bed9b3row11_col3\" class=\"data row11 col3\" >0.000428246</td> \n",
       "        <td id=\"T_ba0b2412_ef30_11e7_a6c0_8056f2bed9b3row11_col4\" class=\"data row11 col4\" >0.478371</td> \n",
       "        <td id=\"T_ba0b2412_ef30_11e7_a6c0_8056f2bed9b3row11_col5\" class=\"data row11 col5\" >0.741416</td> \n",
       "        <td id=\"T_ba0b2412_ef30_11e7_a6c0_8056f2bed9b3row11_col6\" class=\"data row11 col6\" >1.49362</td> \n",
       "        <td id=\"T_ba0b2412_ef30_11e7_a6c0_8056f2bed9b3row11_col7\" class=\"data row11 col7\" >3.3706</td> \n",
       "    </tr>    <tr> \n",
       "        <th id=\"T_ba0b2412_ef30_11e7_a6c0_8056f2bed9b3level0_row12\" class=\"row_heading level0 row12\" >1.3</th> \n",
       "        <td id=\"T_ba0b2412_ef30_11e7_a6c0_8056f2bed9b3row12_col0\" class=\"data row12 col0\" >3528</td> \n",
       "        <td id=\"T_ba0b2412_ef30_11e7_a6c0_8056f2bed9b3row12_col1\" class=\"data row12 col1\" >0.919803</td> \n",
       "        <td id=\"T_ba0b2412_ef30_11e7_a6c0_8056f2bed9b3row12_col2\" class=\"data row12 col2\" >0.642506</td> \n",
       "        <td id=\"T_ba0b2412_ef30_11e7_a6c0_8056f2bed9b3row12_col3\" class=\"data row12 col3\" >0.00901402</td> \n",
       "        <td id=\"T_ba0b2412_ef30_11e7_a6c0_8056f2bed9b3row12_col4\" class=\"data row12 col4\" >0.481894</td> \n",
       "        <td id=\"T_ba0b2412_ef30_11e7_a6c0_8056f2bed9b3row12_col5\" class=\"data row12 col5\" >0.713419</td> \n",
       "        <td id=\"T_ba0b2412_ef30_11e7_a6c0_8056f2bed9b3row12_col6\" class=\"data row12 col6\" >1.48189</td> \n",
       "        <td id=\"T_ba0b2412_ef30_11e7_a6c0_8056f2bed9b3row12_col7\" class=\"data row12 col7\" >3.40476</td> \n",
       "    </tr>    <tr> \n",
       "        <th id=\"T_ba0b2412_ef30_11e7_a6c0_8056f2bed9b3level0_row13\" class=\"row_heading level0 row13\" >1.4</th> \n",
       "        <td id=\"T_ba0b2412_ef30_11e7_a6c0_8056f2bed9b3row13_col0\" class=\"data row13 col0\" >3528</td> \n",
       "        <td id=\"T_ba0b2412_ef30_11e7_a6c0_8056f2bed9b3row13_col1\" class=\"data row13 col1\" >0.91994</td> \n",
       "        <td id=\"T_ba0b2412_ef30_11e7_a6c0_8056f2bed9b3row13_col2\" class=\"data row13 col2\" >0.643953</td> \n",
       "        <td id=\"T_ba0b2412_ef30_11e7_a6c0_8056f2bed9b3row13_col3\" class=\"data row13 col3\" >0.0175998</td> \n",
       "        <td id=\"T_ba0b2412_ef30_11e7_a6c0_8056f2bed9b3row13_col4\" class=\"data row13 col4\" >0.470172</td> \n",
       "        <td id=\"T_ba0b2412_ef30_11e7_a6c0_8056f2bed9b3row13_col5\" class=\"data row13 col5\" >0.685423</td> \n",
       "        <td id=\"T_ba0b2412_ef30_11e7_a6c0_8056f2bed9b3row13_col6\" class=\"data row13 col6\" >1.47017</td> \n",
       "        <td id=\"T_ba0b2412_ef30_11e7_a6c0_8056f2bed9b3row13_col7\" class=\"data row13 col7\" >3.43892</td> \n",
       "    </tr></tbody> \n",
       "</table> "
      ],
      "text/plain": [
       "<pandas.io.formats.style.Styler at 0x7fa0c4a93048>"
      ]
     },
     "execution_count": 439,
     "metadata": {},
     "output_type": "execute_result"
    }
   ],
   "source": [
    "err.groupby(err.sigma).describe().style.background_gradient(cmap=plt.cm.summer_r)"
   ]
  },
  {
   "cell_type": "code",
   "execution_count": 434,
   "metadata": {},
   "outputs": [
    {
     "data": {
      "text/plain": [
       "<matplotlib.axes._subplots.AxesSubplot at 0x7fa0da199240>"
      ]
     },
     "execution_count": 434,
     "metadata": {},
     "output_type": "execute_result"
    },
    {
     "data": {
      "image/png": "[encoded data removed]",
      "text/plain": [
       "<matplotlib.figure.Figure at 0x7fa0c522d4a8>"
      ]
     },
     "metadata": {},
     "output_type": "display_data"
    }
   ],
   "source": [
    "sns.pointplot(err.sigma, err.rmse)"
   ]
  },
  {
   "cell_type": "code",
   "execution_count": 441,
   "metadata": {},
   "outputs": [
    {
     "data": {
      "text/plain": [
       "{'1029': {'rating': 3.0, 'timestamp': '1260759179'},\n",
       " '1061': {'rating': 3.0, 'timestamp': '1260759182'},\n",
       " '1129': {'rating': 2.0, 'timestamp': '1260759185'},\n",
       " '1172': {'rating': 4.0, 'timestamp': '1260759205'},\n",
       " '1263': {'rating': 2.0, 'timestamp': '1260759151'},\n",
       " '1287': {'rating': 2.0, 'timestamp': '1260759187'},\n",
       " '1293': {'rating': 2.0, 'timestamp': '1260759148'},\n",
       " '1339': {'rating': 3.5, 'timestamp': '1260759125'},\n",
       " '1343': {'rating': 2.0, 'timestamp': '1260759131'},\n",
       " '1371': {'rating': 2.5, 'timestamp': '1260759135'},\n",
       " '1405': {'rating': 1.0, 'timestamp': '1260759203'},\n",
       " '1953': {'rating': 4.0, 'timestamp': '1260759191'},\n",
       " '2105': {'rating': 4.0, 'timestamp': '1260759139'},\n",
       " '2150': {'rating': 3.0, 'timestamp': '1260759194'},\n",
       " '2193': {'rating': 2.0, 'timestamp': '1260759198'},\n",
       " '2294': {'rating': 2.0, 'timestamp': '1260759108'},\n",
       " '2455': {'rating': 2.5, 'timestamp': '1260759113'},\n",
       " '2968': {'rating': 1.0, 'timestamp': '1260759200'},\n",
       " '31': {'rating': 2.5, 'timestamp': '1260759144'},\n",
       " '3671': {'rating': 3.0, 'timestamp': '1260759117'}}"
      ]
     },
     "execution_count": 441,
     "metadata": {},
     "output_type": "execute_result"
    }
   ],
   "source": [
    "prefs['1']['data']"
   ]
  },
  {
   "cell_type": "code",
   "execution_count": 447,
   "metadata": {},
   "outputs": [
    {
     "data": {
      "text/plain": [
       "{'genres': ['Drama'],\n",
       " 'imdbid': 95765,\n",
       " 'title': 'Cinema Paradiso (Nuovo cinema Paradiso)',\n",
       " 'year': '1989'}"
      ]
     },
     "execution_count": 447,
     "metadata": {},
     "output_type": "execute_result"
    }
   ],
   "source": [
    "movies['1172']"
   ]
  },
  {
   "cell_type": "code",
   "execution_count": 445,
   "metadata": {},
   "outputs": [
    {
     "data": {
      "text/plain": [
       "3.1211528505687349"
      ]
     },
     "execution_count": 445,
     "metadata": {},
     "output_type": "execute_result"
    }
   ],
   "source": [
    "predict(prefs=prefs, trans_prefs=trans_prefs, genre_prefs=genre_prefs, movie_genre_weights=movie_genre_weights, user='1', movie='1172', sigma=1.2)"
   ]
  },
  {
   "cell_type": "code",
   "execution_count": null,
   "metadata": {},
   "outputs": [],
   "source": []
  }
 ],
 "metadata": {
  "kernelspec": {
   "display_name": "Python 3",
   "language": "python",
   "name": "python3"
  },
  "language_info": {
   "codemirror_mode": {
    "name": "ipython",
    "version": 3
   },
   "file_extension": ".py",
   "mimetype": "text/x-python",
   "name": "python",
   "nbconvert_exporter": "python",
   "pygments_lexer": "ipython3",
   "version": "3.5.2"
  }
 },
 "nbformat": 4,
 "nbformat_minor": 2
}
